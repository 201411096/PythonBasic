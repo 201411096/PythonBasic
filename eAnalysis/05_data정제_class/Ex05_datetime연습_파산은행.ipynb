{
 "cells": [
  {
   "cell_type": "markdown",
   "metadata": {},
   "source": [
    "##  파산한 은행 데이타집합에서 분기별 은행수를 계산하기\n",
    "\n",
    "\n",
    "    1. 먼저 데이타 구조를 파악하기\n",
    "\n",
    "    2. 'Closing Date' 날짜 항목을 datetime 오브젝트로 변기하기\n",
    "\n",
    "    3. 'Closing Date' 날짜 정보에서 dt 접근자를 이용하여 연도(year)와 분기(quarter)를 구하기\n",
    "\n",
    "    4.  연도별 파산은행 수 구하기\n",
    "\n",
    "    5. 연도별, 분기별 파산은행 수 구하기\n",
    "\n",
    "    6. 정보 시각화\n",
    "    \n",
    "    \n",
    "    [도서] Do it 데이타분석을 위한 판다스 입문"
   ]
  },
  {
   "cell_type": "code",
   "execution_count": 24,
   "metadata": {
    "scrolled": true
   },
   "outputs": [
    {
     "name": "stdout",
     "output_type": "stream",
     "text": [
      "<class 'pandas.core.frame.DataFrame'>\n",
      "RangeIndex: 555 entries, 0 to 554\n",
      "Data columns (total 7 columns):\n",
      " #   Column                 Non-Null Count  Dtype         \n",
      "---  ------                 --------------  -----         \n",
      " 0   Bank Name              555 non-null    object        \n",
      " 1   City                   555 non-null    object        \n",
      " 2   ST                     555 non-null    object        \n",
      " 3   CERT                   555 non-null    int64         \n",
      " 4   Acquiring Institution  555 non-null    object        \n",
      " 5   Closing Date           555 non-null    datetime64[ns]\n",
      " 6   Updated Date           555 non-null    datetime64[ns]\n",
      "dtypes: datetime64[ns](2), int64(1), object(4)\n",
      "memory usage: 30.5+ KB\n"
     ]
    },
    {
     "data": {
      "text/plain": [
       "Closing Year  Closing Quarter\n",
       "2000          4                   2\n",
       "2001          1                   1\n",
       "              2                   1\n",
       "              3                   2\n",
       "2002          1                   6\n",
       "              2                   2\n",
       "              3                   1\n",
       "              4                   2\n",
       "2003          1                   1\n",
       "              2                   1\n",
       "              4                   1\n",
       "2004          1                   3\n",
       "              2                   1\n",
       "2007          1                   1\n",
       "              3                   1\n",
       "              4                   1\n",
       "2008          1                   2\n",
       "              2                   2\n",
       "              3                   9\n",
       "              4                  12\n",
       "2009          1                  21\n",
       "              2                  24\n",
       "              3                  50\n",
       "              4                  45\n",
       "2010          1                  41\n",
       "              2                  45\n",
       "              3                  41\n",
       "              4                  30\n",
       "2011          1                  26\n",
       "              2                  22\n",
       "              3                  26\n",
       "              4                  18\n",
       "2012          1                  16\n",
       "              2                  15\n",
       "              3                  12\n",
       "              4                   8\n",
       "2013          1                   4\n",
       "              2                  12\n",
       "              3                   6\n",
       "              4                   2\n",
       "2014          1                   5\n",
       "              2                   7\n",
       "              3                   2\n",
       "              4                   4\n",
       "2015          1                   4\n",
       "              2                   1\n",
       "              3                   1\n",
       "              4                   2\n",
       "2016          1                   1\n",
       "              2                   2\n",
       "              3                   2\n",
       "2017          1                   3\n",
       "              2                   3\n",
       "              4                   2\n",
       "dtype: int64"
      ]
     },
     "execution_count": 24,
     "metadata": {},
     "output_type": "execute_result"
    }
   ],
   "source": [
    "import pandas as pd\n",
    "import matplotlib.pyplot as plt\n",
    "banks = pd.read_csv('./data/banklist.csv', parse_dates=['Closing Date', 'Updated Date'])\n",
    "# (1) 먼저 데이타 구조를 파악하기\n",
    "banks.head()\n",
    "banks.info()\n",
    "\n",
    "# (2) Closing Date를 datetime 오브젝트로 변경\n",
    "#    ㄴ 파일을 읽을 때 datetime으로 변경함\n",
    "\n",
    "# (3) 날짜 정보에서 dt 접근자를 이용하여 연도(year)와 분기(quarter)를 구한다\n",
    "banks['Closing Year'] = banks['Closing Date'].dt.year\n",
    "banks['Closing Quarter'] = banks['Closing Date'].dt.quarter\n",
    "banks.head()\n",
    "\n",
    "\n",
    "# (4) 연도별 파산은행 수 구하기 # sum() count() size()\n",
    "#banks.groupby('Closing Year').sum()\n",
    "#banks.groupby('Closing Year').count()\n",
    "#banks.groupby('Closing Year').size()\n",
    "\n",
    "#banks.groupby(banks['Closing Year'],sum()\n",
    "#banks.groupby(banks['Closing Year'],count()\n",
    "#banks.groupby(banks['Closing Year'],size()\n",
    "\n",
    "# (5) 연도별, 분기별 파산은행 수 구하기\n",
    "closing_year = banks.groupby('Closing Year').size()\n",
    "closing_year\n",
    "\n",
    "closing_quarter = banks.groupby(['Closing Year', 'Closing Quarter']).size() # 년도별로 그룹화한 이후에 분기별로 그룹화\n",
    "closing_quarter\n",
    "#type(closing_quarter)"
   ]
  },
  {
   "cell_type": "code",
   "execution_count": 25,
   "metadata": {},
   "outputs": [
    {
     "data": {
      "image/png": "[encoded data removed]",
      "text/plain": [
       "<Figure size 432x288 with 1 Axes>"
      ]
     },
     "metadata": {
      "needs_background": "light"
     },
     "output_type": "display_data"
    }
   ],
   "source": [
    "\"\"\" 결과를 시각화 ( 간단하게 )\"\"\"\n",
    "#closing_year.plot();\n",
    "closing_year.plot(kind='bar');"
   ]
  },
  {
   "cell_type": "code",
   "execution_count": 26,
   "metadata": {},
   "outputs": [
    {
     "data": {
      "image/png": "[encoded data removed]",
      "text/plain": [
       "<Figure size 432x288 with 1 Axes>"
      ]
     },
     "metadata": {
      "needs_background": "light"
     },
     "output_type": "display_data"
    }
   ],
   "source": [
    "#closing_quarter.plot();\n",
    "closing_quarter.plot(kind='bar');"
   ]
  },
  {
   "cell_type": "code",
   "execution_count": 63,
   "metadata": {},
   "outputs": [
    {
     "data": {
      "text/plain": [
       "<BarContainer object of 54 artists>"
      ]
     },
     "execution_count": 63,
     "metadata": {},
     "output_type": "execute_result"
    },
    {
     "data": {
      "image/png": "[encoded data removed]",
      "text/plain": [
       "<Figure size 1152x720 with 2 Axes>"
      ]
     },
     "metadata": {
      "needs_background": "light"
     },
     "output_type": "display_data"
    }
   ],
   "source": [
    "cqi = []\n",
    "for item in closing_quarter.index:\n",
    "    cqi.append(str(item[0])+str(item[1]))\n",
    "cqi\n",
    "\n",
    "fig = plt.figure(figsize=(16,10))\n",
    "ax1 = plt.subplot(1,2,1)\n",
    "ax2 = plt.subplot(1,2,2)\n",
    "#ax1.plot(closing_year)\n",
    "ax1.bar(closing_year.index, closing_year.values)\n",
    "ax2.bar(cqi ,closing_quarter.values)\n",
    "#ax2.plot(cqi ,closing_quarter)"
   ]
  },
  {
   "cell_type": "code",
   "execution_count": 50,
   "metadata": {},
   "outputs": [
    {
     "data": {
      "text/plain": [
       "MultiIndex([(2000, 4),\n",
       "            (2001, 1),\n",
       "            (2001, 2),\n",
       "            (2001, 3),\n",
       "            (2002, 1),\n",
       "            (2002, 2),\n",
       "            (2002, 3),\n",
       "            (2002, 4),\n",
       "            (2003, 1),\n",
       "            (2003, 2),\n",
       "            (2003, 4),\n",
       "            (2004, 1),\n",
       "            (2004, 2),\n",
       "            (2007, 1),\n",
       "            (2007, 3),\n",
       "            (2007, 4),\n",
       "            (2008, 1),\n",
       "            (2008, 2),\n",
       "            (2008, 3),\n",
       "            (2008, 4),\n",
       "            (2009, 1),\n",
       "            (2009, 2),\n",
       "            (2009, 3),\n",
       "            (2009, 4),\n",
       "            (2010, 1),\n",
       "            (2010, 2),\n",
       "            (2010, 3),\n",
       "            (2010, 4),\n",
       "            (2011, 1),\n",
       "            (2011, 2),\n",
       "            (2011, 3),\n",
       "            (2011, 4),\n",
       "            (2012, 1),\n",
       "            (2012, 2),\n",
       "            (2012, 3),\n",
       "            (2012, 4),\n",
       "            (2013, 1),\n",
       "            (2013, 2),\n",
       "            (2013, 3),\n",
       "            (2013, 4),\n",
       "            (2014, 1),\n",
       "            (2014, 2),\n",
       "            (2014, 3),\n",
       "            (2014, 4),\n",
       "            (2015, 1),\n",
       "            (2015, 2),\n",
       "            (2015, 3),\n",
       "            (2015, 4),\n",
       "            (2016, 1),\n",
       "            (2016, 2),\n",
       "            (2016, 3),\n",
       "            (2017, 1),\n",
       "            (2017, 2),\n",
       "            (2017, 4)],\n",
       "           names=['Closing Year', 'Closing Quarter'])"
      ]
     },
     "execution_count": 50,
     "metadata": {},
     "output_type": "execute_result"
    }
   ],
   "source": [
    "closing_quarter.index\n",
    "cqi = []\n",
    "for item in closing_quarter.index:\n",
    "    cqi.append(str(item[0])+str(item[1]))\n",
    "cqi\n",
    "\n",
    "#ax2.plot(closing_quarter)\n",
    "#type(closing_quarter.index)\n",
    "#type(list(closing_quarter.index))\n",
    "#closing_quarter.index[0]"
   ]
  },
  {
   "cell_type": "code",
   "execution_count": 55,
   "metadata": {},
   "outputs": [
    {
     "data": {
      "text/plain": [
       "pandas.core.series.Series"
      ]
     },
     "execution_count": 55,
     "metadata": {},
     "output_type": "execute_result"
    }
   ],
   "source": [
    "type(closing_quarter)"
   ]
  },
  {
   "cell_type": "code",
   "execution_count": 60,
   "metadata": {},
   "outputs": [
    {
     "data": {
      "text/plain": [
       "MultiIndex([(2000, 4),\n",
       "            (2001, 1),\n",
       "            (2001, 2),\n",
       "            (2001, 3),\n",
       "            (2002, 1),\n",
       "            (2002, 2),\n",
       "            (2002, 3),\n",
       "            (2002, 4),\n",
       "            (2003, 1),\n",
       "            (2003, 2),\n",
       "            (2003, 4),\n",
       "            (2004, 1),\n",
       "            (2004, 2),\n",
       "            (2007, 1),\n",
       "            (2007, 3),\n",
       "            (2007, 4),\n",
       "            (2008, 1),\n",
       "            (2008, 2),\n",
       "            (2008, 3),\n",
       "            (2008, 4),\n",
       "            (2009, 1),\n",
       "            (2009, 2),\n",
       "            (2009, 3),\n",
       "            (2009, 4),\n",
       "            (2010, 1),\n",
       "            (2010, 2),\n",
       "            (2010, 3),\n",
       "            (2010, 4),\n",
       "            (2011, 1),\n",
       "            (2011, 2),\n",
       "            (2011, 3),\n",
       "            (2011, 4),\n",
       "            (2012, 1),\n",
       "            (2012, 2),\n",
       "            (2012, 3),\n",
       "            (2012, 4),\n",
       "            (2013, 1),\n",
       "            (2013, 2),\n",
       "            (2013, 3),\n",
       "            (2013, 4),\n",
       "            (2014, 1),\n",
       "            (2014, 2),\n",
       "            (2014, 3),\n",
       "            (2014, 4),\n",
       "            (2015, 1),\n",
       "            (2015, 2),\n",
       "            (2015, 3),\n",
       "            (2015, 4),\n",
       "            (2016, 1),\n",
       "            (2016, 2),\n",
       "            (2016, 3),\n",
       "            (2017, 1),\n",
       "            (2017, 2),\n",
       "            (2017, 4)],\n",
       "           names=['Closing Year', 'Closing Quarter'])"
      ]
     },
     "execution_count": 60,
     "metadata": {},
     "output_type": "execute_result"
    }
   ],
   "source": [
    "closing_quarter.index"
   ]
  },
  {
   "cell_type": "code",
   "execution_count": null,
   "metadata": {},
   "outputs": [],
   "source": []
  }
 ],
 "metadata": {
  "kernelspec": {
   "display_name": "Python 3",
   "language": "python",
   "name": "python3"
  },
  "language_info": {
   "codemirror_mode": {
    "name": "ipython",
    "version": 3
   },
   "file_extension": ".py",
   "mimetype": "text/x-python",
   "name": "python",
   "nbconvert_exporter": "python",
   "pygments_lexer": "ipython3",
   "version": "3.7.6"
  }
 },
 "nbformat": 4,
 "nbformat_minor": 2
}
