{
 "cells": [
  {
   "cell_type": "markdown",
   "metadata": {},
   "source": [
    "##  데이타 분석\n",
    "\n",
    "데이타 -> 필터링 -> 정제 -> 시각화 -> 분석\n",
    "\n",
    "\n",
    "## 데이타 필터링\n",
    "\n",
    "분석에 필요한 데이타를 거르는 작업 ( 데이타 추출 )\n",
    "\n",
    "1. 열단위 추출 : df['컬럼명']\n",
    "\n",
    "2. 행단위 추출 : df.loc[인덱스명칭] / df.iloc[인덱스위치]\n",
    "\n",
    "    - loc[] : 명칭 기반 인덱싱\n",
    "    - iloc[] : 위치 기반 인덱싱\n",
    "    \n",
    "    현재 인덱스가 글자로 지정되지 않았기에 loc[]/iloc[] 모두 가능\n",
    "    \n",
    "\n",
    "        - loc과 iloc 차이\n",
    "            - df.loc[-1]  # 에러\n",
    "            - df.iloc[-1] # 마지막번호"
   ]
  },
  {
   "cell_type": "code",
   "execution_count": 2,
   "metadata": {},
   "outputs": [],
   "source": [
    "# 데이타 추출\n",
    "\n",
    "import pandas as pd\n",
    "\n",
    "df = pd.read_excel('http://qrc.depaul.edu/excel_files/presidents.xlsx')\n",
    "\n",
    "\n"
   ]
  },
  {
   "cell_type": "markdown",
   "metadata": {},
   "source": [
    " 1. 열단위 추출\n",
    "\n",
    " 'President','Age at inauguration' 컬럼명 추출"
   ]
  },
  {
   "cell_type": "code",
   "execution_count": 3,
   "metadata": {},
   "outputs": [
    {
     "data": {
      "text/plain": [
       "Index(['President', 'Age at inauguration'], dtype='object')"
      ]
     },
     "execution_count": 3,
     "metadata": {},
     "output_type": "execute_result"
    }
   ],
   "source": [
    "#df[['President', 'Age at inauguration']]\n",
    "df.columns[[0,3]]"
   ]
  },
  {
   "cell_type": "markdown",
   "metadata": {
    "scrolled": true
   },
   "source": [
    " 2. 행단위 추출\n",
    " \n",
    "   조지워싱턴 / 링컨/ 오마바 대통령 정보만 출력\n",
    "\n",
    "\n",
    "    loc[] : 명칭 기반 인덱싱\n",
    "    iloc[] : 위치 기반 인덱싱\n",
    "    \n",
    "    현재 인덱스가 글자로 지정되지 않았기에 loc[]/iloc[] 모두 가능\n",
    "\n",
    "\n",
    "\n",
    " (1) loc\n"
   ]
  },
  {
   "cell_type": "code",
   "execution_count": 4,
   "metadata": {},
   "outputs": [
    {
     "data": {
      "text/html": [
       "<div>\n",
       "<style scoped>\n",
       "    .dataframe tbody tr th:only-of-type {\n",
       "        vertical-align: middle;\n",
       "    }\n",
       "\n",
       "    .dataframe tbody tr th {\n",
       "        vertical-align: top;\n",
       "    }\n",
       "\n",
       "    .dataframe thead th {\n",
       "        text-align: right;\n",
       "    }\n",
       "</style>\n",
       "<table border=\"1\" class=\"dataframe\">\n",
       "  <thead>\n",
       "    <tr style=\"text-align: right;\">\n",
       "      <th></th>\n",
       "      <th>President</th>\n",
       "      <th>Years in office</th>\n",
       "      <th>Year first inaugurated</th>\n",
       "      <th>Age at inauguration</th>\n",
       "      <th>State elected from</th>\n",
       "      <th># of electoral votes</th>\n",
       "      <th># of popular votes</th>\n",
       "      <th>National total votes</th>\n",
       "      <th>Total electoral votes</th>\n",
       "      <th>Rating points</th>\n",
       "      <th>Political Party</th>\n",
       "      <th>Occupation</th>\n",
       "      <th>College</th>\n",
       "      <th>% electoral</th>\n",
       "      <th>% popular</th>\n",
       "    </tr>\n",
       "  </thead>\n",
       "  <tbody>\n",
       "    <tr>\n",
       "      <th>0</th>\n",
       "      <td>George Washington</td>\n",
       "      <td>8.0</td>\n",
       "      <td>1789</td>\n",
       "      <td>57</td>\n",
       "      <td>Virginia</td>\n",
       "      <td>69</td>\n",
       "      <td>NA()</td>\n",
       "      <td>NA()</td>\n",
       "      <td>69</td>\n",
       "      <td>842.0</td>\n",
       "      <td>None</td>\n",
       "      <td>Planter</td>\n",
       "      <td>None</td>\n",
       "      <td>100.000000</td>\n",
       "      <td>NA()</td>\n",
       "    </tr>\n",
       "    <tr>\n",
       "      <th>13</th>\n",
       "      <td>Abraham Lincoln</td>\n",
       "      <td>4.0</td>\n",
       "      <td>1861</td>\n",
       "      <td>52</td>\n",
       "      <td>Illinois</td>\n",
       "      <td>180</td>\n",
       "      <td>1865908</td>\n",
       "      <td>4685561</td>\n",
       "      <td>303</td>\n",
       "      <td>900.0</td>\n",
       "      <td>Republican</td>\n",
       "      <td>Lawyer</td>\n",
       "      <td>None</td>\n",
       "      <td>59.405941</td>\n",
       "      <td>39.8225</td>\n",
       "    </tr>\n",
       "    <tr>\n",
       "      <th>34</th>\n",
       "      <td>Barack Obama</td>\n",
       "      <td>NaN</td>\n",
       "      <td>2009</td>\n",
       "      <td>47</td>\n",
       "      <td>Illinois</td>\n",
       "      <td>365</td>\n",
       "      <td>69492376</td>\n",
       "      <td>129438754</td>\n",
       "      <td>538</td>\n",
       "      <td>NaN</td>\n",
       "      <td>Democrat</td>\n",
       "      <td>Lawyer</td>\n",
       "      <td>Columbia University</td>\n",
       "      <td>67.843866</td>\n",
       "      <td>53.6875</td>\n",
       "    </tr>\n",
       "  </tbody>\n",
       "</table>\n",
       "</div>"
      ],
      "text/plain": [
       "            President  Years in office  Year first inaugurated  \\\n",
       "0   George Washington              8.0                    1789   \n",
       "13    Abraham Lincoln              4.0                    1861   \n",
       "34       Barack Obama              NaN                    2009   \n",
       "\n",
       "    Age at inauguration State elected from  # of electoral votes  \\\n",
       "0                    57           Virginia                    69   \n",
       "13                   52           Illinois                   180   \n",
       "34                   47           Illinois                   365   \n",
       "\n",
       "   # of popular votes National total votes  Total electoral votes  \\\n",
       "0                NA()                 NA()                     69   \n",
       "13            1865908              4685561                    303   \n",
       "34           69492376            129438754                    538   \n",
       "\n",
       "    Rating points Political Party Occupation              College  \\\n",
       "0           842.0            None    Planter                 None   \n",
       "13          900.0      Republican     Lawyer                 None   \n",
       "34            NaN        Democrat     Lawyer  Columbia University   \n",
       "\n",
       "    % electoral % popular  \n",
       "0    100.000000      NA()  \n",
       "13    59.405941   39.8225  \n",
       "34    67.843866   53.6875  "
      ]
     },
     "execution_count": 4,
     "metadata": {},
     "output_type": "execute_result"
    }
   ],
   "source": [
    "df.loc[[0,13,34]]"
   ]
  },
  {
   "cell_type": "markdown",
   "metadata": {},
   "source": [
    " (2) iloc\n"
   ]
  },
  {
   "cell_type": "code",
   "execution_count": 5,
   "metadata": {},
   "outputs": [
    {
     "data": {
      "text/html": [
       "<div>\n",
       "<style scoped>\n",
       "    .dataframe tbody tr th:only-of-type {\n",
       "        vertical-align: middle;\n",
       "    }\n",
       "\n",
       "    .dataframe tbody tr th {\n",
       "        vertical-align: top;\n",
       "    }\n",
       "\n",
       "    .dataframe thead th {\n",
       "        text-align: right;\n",
       "    }\n",
       "</style>\n",
       "<table border=\"1\" class=\"dataframe\">\n",
       "  <thead>\n",
       "    <tr style=\"text-align: right;\">\n",
       "      <th></th>\n",
       "      <th>President</th>\n",
       "      <th>Years in office</th>\n",
       "      <th>Year first inaugurated</th>\n",
       "      <th>Age at inauguration</th>\n",
       "      <th>State elected from</th>\n",
       "      <th># of electoral votes</th>\n",
       "      <th># of popular votes</th>\n",
       "      <th>National total votes</th>\n",
       "      <th>Total electoral votes</th>\n",
       "      <th>Rating points</th>\n",
       "      <th>Political Party</th>\n",
       "      <th>Occupation</th>\n",
       "      <th>College</th>\n",
       "      <th>% electoral</th>\n",
       "      <th>% popular</th>\n",
       "    </tr>\n",
       "  </thead>\n",
       "  <tbody>\n",
       "    <tr>\n",
       "      <th>0</th>\n",
       "      <td>George Washington</td>\n",
       "      <td>8.0</td>\n",
       "      <td>1789</td>\n",
       "      <td>57</td>\n",
       "      <td>Virginia</td>\n",
       "      <td>69</td>\n",
       "      <td>NA()</td>\n",
       "      <td>NA()</td>\n",
       "      <td>69</td>\n",
       "      <td>842.0</td>\n",
       "      <td>None</td>\n",
       "      <td>Planter</td>\n",
       "      <td>None</td>\n",
       "      <td>100.000000</td>\n",
       "      <td>NA()</td>\n",
       "    </tr>\n",
       "    <tr>\n",
       "      <th>13</th>\n",
       "      <td>Abraham Lincoln</td>\n",
       "      <td>4.0</td>\n",
       "      <td>1861</td>\n",
       "      <td>52</td>\n",
       "      <td>Illinois</td>\n",
       "      <td>180</td>\n",
       "      <td>1865908</td>\n",
       "      <td>4685561</td>\n",
       "      <td>303</td>\n",
       "      <td>900.0</td>\n",
       "      <td>Republican</td>\n",
       "      <td>Lawyer</td>\n",
       "      <td>None</td>\n",
       "      <td>59.405941</td>\n",
       "      <td>39.8225</td>\n",
       "    </tr>\n",
       "    <tr>\n",
       "      <th>34</th>\n",
       "      <td>Barack Obama</td>\n",
       "      <td>NaN</td>\n",
       "      <td>2009</td>\n",
       "      <td>47</td>\n",
       "      <td>Illinois</td>\n",
       "      <td>365</td>\n",
       "      <td>69492376</td>\n",
       "      <td>129438754</td>\n",
       "      <td>538</td>\n",
       "      <td>NaN</td>\n",
       "      <td>Democrat</td>\n",
       "      <td>Lawyer</td>\n",
       "      <td>Columbia University</td>\n",
       "      <td>67.843866</td>\n",
       "      <td>53.6875</td>\n",
       "    </tr>\n",
       "  </tbody>\n",
       "</table>\n",
       "</div>"
      ],
      "text/plain": [
       "            President  Years in office  Year first inaugurated  \\\n",
       "0   George Washington              8.0                    1789   \n",
       "13    Abraham Lincoln              4.0                    1861   \n",
       "34       Barack Obama              NaN                    2009   \n",
       "\n",
       "    Age at inauguration State elected from  # of electoral votes  \\\n",
       "0                    57           Virginia                    69   \n",
       "13                   52           Illinois                   180   \n",
       "34                   47           Illinois                   365   \n",
       "\n",
       "   # of popular votes National total votes  Total electoral votes  \\\n",
       "0                NA()                 NA()                     69   \n",
       "13            1865908              4685561                    303   \n",
       "34           69492376            129438754                    538   \n",
       "\n",
       "    Rating points Political Party Occupation              College  \\\n",
       "0           842.0            None    Planter                 None   \n",
       "13          900.0      Republican     Lawyer                 None   \n",
       "34            NaN        Democrat     Lawyer  Columbia University   \n",
       "\n",
       "    % electoral % popular  \n",
       "0    100.000000      NA()  \n",
       "13    59.405941   39.8225  \n",
       "34    67.843866   53.6875  "
      ]
     },
     "execution_count": 5,
     "metadata": {},
     "output_type": "execute_result"
    }
   ],
   "source": [
    "df.loc[[0,13,34]]"
   ]
  },
  {
   "cell_type": "markdown",
   "metadata": {},
   "source": [
    "3. 마지막행의 데이타 추출"
   ]
  },
  {
   "cell_type": "code",
   "execution_count": 6,
   "metadata": {},
   "outputs": [
    {
     "data": {
      "text/plain": [
       "President                        Barack Obama\n",
       "Years in office                           NaN\n",
       "Year first inaugurated                   2009\n",
       "Age at inauguration                        47\n",
       "State elected from                   Illinois\n",
       "# of electoral votes                      365\n",
       "# of popular votes                   69492376\n",
       "National total votes                129438754\n",
       "Total electoral votes                     538\n",
       "Rating points                             NaN\n",
       "Political Party                      Democrat\n",
       "Occupation                             Lawyer\n",
       "College                   Columbia University\n",
       "% electoral                           67.8439\n",
       "% popular                             53.6875\n",
       "Name: 34, dtype: object"
      ]
     },
     "execution_count": 6,
     "metadata": {},
     "output_type": "execute_result"
    }
   ],
   "source": [
    "#df.loc[-1] 실제 순서대로 하는 인덱스가 아니라서 오류 발생\n",
    "df.iloc[-1]"
   ]
  },
  {
   "cell_type": "markdown",
   "metadata": {},
   "source": [
    " 4. 초대 대통령 10명의 이름과 대학을 추출\n",
    " \n",
    " 행열 모두 지정하여 추출 \n",
    " \n",
    " 하지만 컬럼명을 기술하는 것을 권장"
   ]
  },
  {
   "cell_type": "code",
   "execution_count": 9,
   "metadata": {},
   "outputs": [
    {
     "data": {
      "text/plain": [
       "0          George Washington\n",
       "1                 John Adams\n",
       "2           Thomas Jefferson\n",
       "3              James Madison\n",
       "4               James Monroe\n",
       "5          John Quincy Adams\n",
       "6             Andrew Jackson\n",
       "7          Martin Van Buren \n",
       "8     William Henry Harrison\n",
       "9              James K. Polk\n",
       "10            Zachary Taylor\n",
       "11           Franklin Pierce\n",
       "12            James Buchanan\n",
       "13           Abraham Lincoln\n",
       "14          Ulysses S. Grant\n",
       "15       Rutherford B. Hayes\n",
       "16         James A. Garfield\n",
       "17          Grover Cleveland\n",
       "18         Benjamin Harrison\n",
       "19          Grover Cleveland\n",
       "20          William McKinley\n",
       "21       William Howard Taft\n",
       "22            Woodrow Wilson\n",
       "23         Warren G. Harding\n",
       "24            Herbert Hoover\n",
       "25        Franklin Roosevelt\n",
       "26      Dwight D. Eisenhower\n",
       "27           John F. Kennedy\n",
       "28          Richard M. Nixon\n",
       "29              Jimmy Carter\n",
       "30             Ronald Reagan\n",
       "31               George Bush\n",
       "32              Bill Clinton\n",
       "33            George W. Bush\n",
       "34              Barack Obama\n",
       "Name: President, dtype: object"
      ]
     },
     "execution_count": 9,
     "metadata": {},
     "output_type": "execute_result"
    }
   ],
   "source": [
    "# 1.\n",
    "#df[0:11][['President', 'College']]\n",
    "# 2.\n",
    "#df[['President', 'College']][0:11] # 거꾸로 해도 나오는데 왜 되는지 모름\n",
    "# 3.\n",
    "#df.head(10)[['President', 'College']] # 같은 값이 나옴\n",
    "\n",
    "# ------------------------------------------------------------------------\n",
    "# ***** .loc() 함수는 인덱스 부분에만 사용이 가능한 함수 *****\n"
   ]
  },
  {
   "cell_type": "markdown",
   "metadata": {},
   "source": [
    "#### [ 결과 ]\n",
    "\n",
    "                President           College\n",
    "                \n",
    "    0      George Washington              None\n",
    "\n",
    "    1              John Adams           Harvard\n",
    "\n",
    "    2        Thomas Jefferson  William and Mary\n",
    "\n",
    "    3           James Madison         Princeton\n",
    "\n",
    "    4            James Monroe  William and Mary\n",
    "\n",
    "    5       John Quincy Adams           Harvard\n",
    "\n",
    "    6          Andrew Jackson              None\n",
    "\n",
    "    7       Martin Van Buren               None\n",
    "\n",
    "    8  William Henry Harrison    Hampden-Sydney\n"
   ]
  },
  {
   "cell_type": "markdown",
   "metadata": {},
   "source": [
    "### [추후] 미국대통령 데이타셋을 분석하고 정보를 도출하여 출력(시각화 권장)"
   ]
  }
 ],
 "metadata": {
  "kernelspec": {
   "display_name": "Python 3",
   "language": "python",
   "name": "python3"
  },
  "language_info": {
   "codemirror_mode": {
    "name": "ipython",
    "version": 3
   },
   "file_extension": ".py",
   "mimetype": "text/x-python",
   "name": "python",
   "nbconvert_exporter": "python",
   "pygments_lexer": "ipython3",
   "version": "3.7.6"
  }
 },
 "nbformat": 4,
 "nbformat_minor": 2
}
