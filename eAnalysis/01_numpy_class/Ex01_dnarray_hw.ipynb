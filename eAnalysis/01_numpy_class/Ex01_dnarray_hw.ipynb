{
 "cells": [
  {
   "cell_type": "markdown",
   "metadata": {},
   "source": [
    "# numpy\n",
    "\n",
    "\n",
    "- 행렬 / 선형대수 / 통계 패키지\n",
    "\n",
    "- 머신러닝의 이론적 백그라운드는 선형대수와 통계로 이루어져 있다\n",
    "\n",
    "- 사이킷런 같은 머신러닝 패키지가 넘파이 기반으로 되어 있다\n",
    "\n",
    "\n",
    "    * 머신러닝 알고리즘이나 사이파이와 같은 과학, 통계 지원용 패키지를 직접 만드는 개발이 아니라면\n",
    "    넘파이를 상세하기 알 필요는 없다지만, 넘파이를 이해하는 것이 파이썬 기반의 데이타분석과 머신러닝에 중요하다\n",
    "    \n",
    "    * 넘파이가 데이타 핸들링에 효율적으로 쉽고 편하고 할 수 없다.\n",
    "      그러나 데이타 핸들링에 주로 사용하는 판다스도 많은 부분이 넘파이를 기반으로 만들어져 있다.\n",
    "    \n",
    "    * ndarray \n",
    "        - 넘파이 기반 데이타 타입\n",
    "        - np.array()       "
   ]
  },
  {
   "cell_type": "code",
   "execution_count": 2,
   "metadata": {},
   "outputs": [
    {
     "name": "stdout",
     "output_type": "stream",
     "text": [
      "[[1 2 3]\n",
      " [9 8 7]]\n",
      "arr의 type <class 'numpy.ndarray'>\n"
     ]
    }
   ],
   "source": [
    "import numpy as np\n",
    "\n",
    "list_1 = [1,2,3]\n",
    "list_2 = [9,8,7]\n",
    "\n",
    "arr = np.array([list_1, list_2])\n",
    "print(arr)\n",
    "print(\"arr의 type\", type(arr))"
   ]
  },
  {
   "cell_type": "code",
   "execution_count": 5,
   "metadata": {},
   "outputs": [
    {
     "data": {
      "text/plain": [
       "(2, 3)"
      ]
     },
     "execution_count": 5,
     "metadata": {},
     "output_type": "execute_result"
    }
   ],
   "source": [
    "arr.shape"
   ]
  },
  {
   "cell_type": "code",
   "execution_count": 8,
   "metadata": {},
   "outputs": [
    {
     "data": {
      "text/plain": [
       "array([[  1,   2,   3],\n",
       "       [  9, 100,   7]])"
      ]
     },
     "execution_count": 8,
     "metadata": {},
     "output_type": "execute_result"
    }
   ],
   "source": [
    "# 두번쨰 행 두번쨰 열의 요소를 100으로 지정\n",
    "\n",
    "arr[1][1]=100\n",
    "arr"
   ]
  },
  {
   "cell_type": "code",
   "execution_count": 12,
   "metadata": {},
   "outputs": [
    {
     "name": "stdout",
     "output_type": "stream",
     "text": [
      "(3,)\n",
      "(1, 3)\n",
      "1 차원\n",
      "2 차원\n"
     ]
    }
   ],
   "source": [
    "arr1 = np.array([1, 2, 3])\n",
    "arr2 = np.array([[1,2,3]])\n",
    "\n",
    "print(arr1.shape) # (3,) 3개의 요소를 가지고 있는 1차원 튜플\n",
    "print(arr2.shape) # \n",
    "\n",
    "print(arr1.ndim, \"차원\")\n",
    "print(arr2.ndim, \"차원\")"
   ]
  },
  {
   "cell_type": "markdown",
   "metadata": {},
   "source": [
    "### 자료형"
   ]
  },
  {
   "cell_type": "code",
   "execution_count": 13,
   "metadata": {},
   "outputs": [
    {
     "name": "stdout",
     "output_type": "stream",
     "text": [
      "int32\n"
     ]
    }
   ],
   "source": [
    "print(arr.dtype)"
   ]
  },
  {
   "cell_type": "markdown",
   "metadata": {},
   "source": [
    ".astype() -> 형변환"
   ]
  },
  {
   "cell_type": "code",
   "execution_count": 14,
   "metadata": {},
   "outputs": [
    {
     "data": {
      "text/plain": [
       "array([[  1.,   2.,   3.],\n",
       "       [  9., 100.,   7.]])"
      ]
     },
     "execution_count": 14,
     "metadata": {},
     "output_type": "execute_result"
    }
   ],
   "source": [
    "arr2 = arr.astype(np.float64)\n",
    "arr2### 자료형"
   ]
  },
  {
   "cell_type": "markdown",
   "metadata": {},
   "source": [
    "type() : 변수의 전체적인 타입\n",
    "\n",
    "dtype() : 그 안의 요소들의 타입"
   ]
  },
  {
   "cell_type": "code",
   "execution_count": 17,
   "metadata": {},
   "outputs": [
    {
     "name": "stdout",
     "output_type": "stream",
     "text": [
      "<class 'numpy.ndarray'>\n",
      "<U32\n"
     ]
    }
   ],
   "source": [
    "list3 = [100, 40.99, 'python']\n",
    "arr3 = np.array(list3)\n",
    "print(type(arr3))\n",
    "print(arr3.dtype)"
   ]
  },
  {
   "cell_type": "code",
   "execution_count": 19,
   "metadata": {},
   "outputs": [
    {
     "data": {
      "text/plain": [
       "array(['100', '40.99', 'python'], dtype='<U32')"
      ]
     },
     "execution_count": 19,
     "metadata": {},
     "output_type": "execute_result"
    }
   ],
   "source": [
    "  # [결과] <U11   : Unicode 문자열 \n",
    "arr3 # 전부 문자열로 바뀐 것을 확인 가능"
   ]
  },
  {
   "cell_type": "markdown",
   "metadata": {},
   "source": [
    "### nparray를 편리하게 생성\n",
    "\n",
    "* arange() : 범위를 이용한 배열 만들기\n",
    "* zeros() : 0으로 채우는 배열 만들기\n",
    "* ones() : 1로 채우는 배열 만들기\n",
    "* 정규분포 \n",
    "* 최소 : 0 \n",
    "* 최대 : 1"
   ]
  },
  {
   "cell_type": "code",
   "execution_count": null,
   "metadata": {},
   "outputs": [],
   "source": [
    "for i in range(1,10):\n",
    "    print(i)\n",
    "a0 = range(1,10)\n",
    "print('range확인', a0)\n",
    "# range가 for문 밖에서 생각하는 것처럼 작동 하지 않는 듯"
   ]
  },
  {
   "cell_type": "code",
   "execution_count": 38,
   "metadata": {},
   "outputs": [
    {
     "name": "stdout",
     "output_type": "stream",
     "text": [
      "range확인 range(1, 10)\n",
      "[0 1 2 3 4 5 6 7 8 9]\n",
      "[1 2 3 4 5 6 7 8 9]\n",
      "[ 1  4  7 10]\n"
     ]
    }
   ],
   "source": [
    "a = np.arange(10)\n",
    "print(a)\n",
    "b = np.arange(1, 10) # 1부터 10까지 하고 싶었으면 11로 작성했어야 됨\n",
    "print(b)\n",
    "c = np.arange(1, 11, 3)\n",
    "print(c)\n"
   ]
  },
  {
   "cell_type": "code",
   "execution_count": 26,
   "metadata": {},
   "outputs": [
    {
     "data": {
      "text/plain": [
       "array([[0, 0, 0, 0, 0],\n",
       "       [0, 0, 0, 0, 0],\n",
       "       [0, 0, 0, 0, 0],\n",
       "       [0, 0, 0, 0, 0],\n",
       "       [0, 0, 0, 0, 0]])"
      ]
     },
     "execution_count": 26,
     "metadata": {},
     "output_type": "execute_result"
    }
   ],
   "source": [
    "a2 = np.zeros((5,5), dtype='int32') # 인자를 튜플 형식으로 보냄(괄호 두개로 감쌈)\n",
    "a2"
   ]
  },
  {
   "cell_type": "code",
   "execution_count": 27,
   "metadata": {},
   "outputs": [
    {
     "data": {
      "text/plain": [
       "array([[1, 1, 1, 1],\n",
       "       [1, 1, 1, 1],\n",
       "       [1, 1, 1, 1],\n",
       "       [1, 1, 1, 1]])"
      ]
     },
     "execution_count": 27,
     "metadata": {},
     "output_type": "execute_result"
    }
   ],
   "source": [
    "a3 = np.ones((4,4), dtype='int32')\n",
    "a3"
   ]
  },
  {
   "cell_type": "markdown",
   "metadata": {},
   "source": [
    "### ndarray의 차원과 크기를 변경 : reshape()"
   ]
  },
  {
   "cell_type": "code",
   "execution_count": 32,
   "metadata": {},
   "outputs": [
    {
     "name": "stdout",
     "output_type": "stream",
     "text": [
      "(10,)\n",
      "[0 1 2 3 4 5 6 7 8 9]\n"
     ]
    }
   ],
   "source": [
    "arr = np.arange(10)\n",
    "print(arr.shape)\n",
    "print(arr)"
   ]
  },
  {
   "cell_type": "code",
   "execution_count": 33,
   "metadata": {
    "scrolled": true
   },
   "outputs": [
    {
     "name": "stdout",
     "output_type": "stream",
     "text": [
      "[[0 1 2 3 4]\n",
      " [5 6 7 8 9]]\n",
      "(2, 5)\n"
     ]
    }
   ],
   "source": [
    "arr2 = arr.reshape(2,5)\n",
    "print(arr2)\n",
    "print(arr2.shape)"
   ]
  },
  {
   "cell_type": "code",
   "execution_count": 34,
   "metadata": {},
   "outputs": [
    {
     "ename": "ValueError",
     "evalue": "cannot reshape array of size 10 into shape (3,4)",
     "output_type": "error",
     "traceback": [
      "\u001b[1;31m---------------------------------------------------------------------------\u001b[0m",
      "\u001b[1;31mValueError\u001b[0m                                Traceback (most recent call last)",
      "\u001b[1;32m<ipython-input-34-c9baa29944ef>\u001b[0m in \u001b[0;36m<module>\u001b[1;34m\u001b[0m\n\u001b[1;32m----> 1\u001b[1;33m \u001b[0marr3\u001b[0m \u001b[1;33m=\u001b[0m \u001b[0marr\u001b[0m\u001b[1;33m.\u001b[0m\u001b[0mreshape\u001b[0m\u001b[1;33m(\u001b[0m\u001b[1;36m3\u001b[0m\u001b[1;33m,\u001b[0m\u001b[1;36m4\u001b[0m\u001b[1;33m)\u001b[0m\u001b[1;33m\u001b[0m\u001b[1;33m\u001b[0m\u001b[0m\n\u001b[0m\u001b[0;32m      2\u001b[0m \u001b[0mprint\u001b[0m\u001b[1;33m(\u001b[0m\u001b[0marr3\u001b[0m\u001b[1;33m)\u001b[0m\u001b[1;33m\u001b[0m\u001b[1;33m\u001b[0m\u001b[0m\n\u001b[0;32m      3\u001b[0m \u001b[0mprint\u001b[0m\u001b[1;33m(\u001b[0m\u001b[0marr3\u001b[0m\u001b[1;33m.\u001b[0m\u001b[0mshape\u001b[0m\u001b[1;33m)\u001b[0m\u001b[1;33m\u001b[0m\u001b[1;33m\u001b[0m\u001b[0m\n",
      "\u001b[1;31mValueError\u001b[0m: cannot reshape array of size 10 into shape (3,4)"
     ]
    }
   ],
   "source": [
    "#행과 열 수가 맞지 않아 에러 발생\n",
    "arr3 = arr.reshape(3,4)\n",
    "print(arr3)\n",
    "print(arr3.shape)"
   ]
  },
  {
   "cell_type": "markdown",
   "metadata": {},
   "source": [
    "### 인덱싱: 특정 데이타 추출"
   ]
  },
  {
   "cell_type": "code",
   "execution_count": 39,
   "metadata": {},
   "outputs": [
    {
     "name": "stdout",
     "output_type": "stream",
     "text": [
      "[ 1  2  3  4  5  6  7  8  9 10]\n",
      "3\n",
      "8\n"
     ]
    }
   ],
   "source": [
    "#------------------------------------------ (1) 단일값 출력\n",
    "\n",
    "\n",
    "## 세번째 요소 추출 ( 0부터 인덱스)\n",
    "\n",
    "\n",
    "## 뒤에서 세번째 요소 추출 ( 뒤에서 인덱스는 -1부터)\n"
   ]
  },
  {
   "cell_type": "code",
   "execution_count": 5,
   "metadata": {
    "scrolled": true
   },
   "outputs": [
    {
     "name": "stdout",
     "output_type": "stream",
     "text": [
      "두번째 행의 세번째 열의 값 추출  6\n",
      "arr shape : (3, 3)\n",
      "arr ndim : 2\n"
     ]
    }
   ],
   "source": [
    "## 1부터 9까지 nparray를 만들고 3행 3열 2차원 구조로 변경한후\n",
    "\n",
    "## 두번째 행의 세번째 열의 값 추출\n"
   ]
  },
  {
   "cell_type": "code",
   "execution_count": null,
   "metadata": {
    "scrolled": true
   },
   "outputs": [],
   "source": [
    "#------------------------------------------ (2) 슬라이싱 (:)\n",
    "arr = np.arange(1, 10)\n",
    "\n",
    "\n"
   ]
  },
  {
   "cell_type": "code",
   "execution_count": 23,
   "metadata": {},
   "outputs": [
    {
     "name": "stdout",
     "output_type": "stream",
     "text": [
      "행렬에서 1, 2, 4, 5 추출 : [[1 2]\n",
      " [4 5]]\n",
      "행렬에서 4, 5, 6, 7, 8, 9 추출 : [[4 5 6]\n",
      " [7 8 9]]\n",
      "행렬에서 2, 3, 5, 6 추출 [[2 3]\n",
      " [5 6]]\n",
      "행렬에서 1, 4 추출 [1 4]\n",
      "[[1 2 3]\n",
      " [4 5 6]\n",
      " [7 8 9]]\n"
     ]
    }
   ],
   "source": [
    "import numpy as np\n",
    "\n",
    "arr = np.array([\n",
    "    [1,2,3],\n",
    "    [4,5,6],\n",
    "    [7,8,9]\n",
    "])\n",
    "\n",
    "## 2차원 배열에서 생성\n",
    "\"\"\"\n",
    "    1 2 3\n",
    "    4 5 6\n",
    "    7 8 9\n",
    "\"\"\"\n",
    "\n",
    "    \n",
    "## 행렬에서 1, 2, 4, 5 추출\n",
    "\n",
    "\n",
    "## 행렬에서 4, 5, 6, 7, 8, 9 추출\n",
    "\n",
    "\n",
    "## 행렬에서 2, 3, 5, 6 추출\n",
    "\n",
    "\n",
    "## 행렬에서 1, 4 추출\n",
    "\n",
    "\n",
    "## 행렬에서 전체 요소 추출\n",
    "\n"
   ]
  },
  {
   "cell_type": "code",
   "execution_count": null,
   "metadata": {},
   "outputs": [],
   "source": [
    "# 2차원 ndarray에서 뒤의 오는 인덱스가 없으면 1차원으로 반환\n",
    "# 3차원 ndarray에서 뒤의 오는 인덱스가 없으면 2차원으로 반환\n",
    "\n"
   ]
  },
  {
   "cell_type": "code",
   "execution_count": null,
   "metadata": {},
   "outputs": [],
   "source": [
    "# 슬라이싱[:]과 인덱스선택을 결합\n",
    "\n",
    "\"\"\"\n",
    "    1 2 3\n",
    "    4 5 6\n",
    "    7 8 9\n",
    "\"\"\"\n",
    "import numpy as np\n",
    "arr = np.arange(1, 10)\n",
    "ndarr = arr.reshape(3,3)\n",
    "print(ndarr)\n",
    "\n",
    "## 행렬에서 1, 2, 4, 5 추출\n",
    "\n",
    "\n",
    "## 행렬에서 4, 5, 6, 7, 8, 9 추출\n",
    "\n",
    "\n",
    "## 행렬에서 2, 3, 5, 6 추출\n",
    "\n",
    "\n",
    "## 행렬에서 1, 4 추출\n",
    "\n",
    "\n",
    "## 행렬에서 3, 6 추출\n",
    "\n",
    "\n",
    "# 지금은 너무 간단하다고 여기지만 추후에 데이타에서 많이 헷갈려서 여기서 시간 소요를 많이 한다"
   ]
  },
  {
   "cell_type": "code",
   "execution_count": null,
   "metadata": {},
   "outputs": [],
   "source": [
    "#------------------------------------------ (3) 블린인덱싱\n",
    "# 조건 필터링과 검색을 같이 하기에 자주 사용\n",
    "\n",
    "arr = np.arange(1, 10)\n",
    "ndarr = arr.reshape(3,3)\n",
    "print(ndarr)\n",
    "\n",
    "# 5보다 큰 요소들 추출\n",
    "\n",
    "\n",
    "# 8값 요소를 88로 변경\n"
   ]
  }
 ],
 "metadata": {
  "kernelspec": {
   "display_name": "Python 3",
   "language": "python",
   "name": "python3"
  },
  "language_info": {
   "codemirror_mode": {
    "name": "ipython",
    "version": 3
   },
   "file_extension": ".py",
   "mimetype": "text/x-python",
   "name": "python",
   "nbconvert_exporter": "python",
   "pygments_lexer": "ipython3",
   "version": "3.7.6"
  }
 },
 "nbformat": 4,
 "nbformat_minor": 2
}
