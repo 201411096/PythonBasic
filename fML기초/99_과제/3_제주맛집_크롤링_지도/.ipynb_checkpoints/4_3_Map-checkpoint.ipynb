{
 "cells": [
  {
   "cell_type": "markdown",
   "metadata": {},
   "source": [
    "#### 카카오 API 로  실습코드 변경하였습니다 #####\n",
    "\n",
    "- 안내 페이지: http://bit.ly/pwd_kakaoAPI_guide\n",
    "- 깃헙 주소: https://github.com/Play-with-data/datasalon"
   ]
  },
  {
   "cell_type": "code",
   "execution_count": 22,
   "metadata": {},
   "outputs": [],
   "source": [
    "# folium 설치\n",
    "\n",
    "#! pip install folium"
   ]
  },
  {
   "cell_type": "code",
   "execution_count": null,
   "metadata": {},
   "outputs": [],
   "source": []
  },
  {
   "cell_type": "markdown",
   "metadata": {},
   "source": [
    "# 4.3 지도시각화"
   ]
  },
  {
   "cell_type": "markdown",
   "metadata": {},
   "source": [
    "###  4.3.2 데이터 준비"
   ]
  },
  {
   "cell_type": "code",
   "execution_count": 23,
   "metadata": {
    "scrolled": true
   },
   "outputs": [
    {
     "data": {
      "text/html": [
       "<div>\n",
       "<style scoped>\n",
       "    .dataframe tbody tr th:only-of-type {\n",
       "        vertical-align: middle;\n",
       "    }\n",
       "\n",
       "    .dataframe tbody tr th {\n",
       "        vertical-align: top;\n",
       "    }\n",
       "\n",
       "    .dataframe thead th {\n",
       "        text-align: right;\n",
       "    }\n",
       "</style>\n",
       "<table border=\"1\" class=\"dataframe\">\n",
       "  <thead>\n",
       "    <tr style=\"text-align: right;\">\n",
       "      <th></th>\n",
       "      <th>Unnamed: 0</th>\n",
       "      <th>content</th>\n",
       "      <th>data</th>\n",
       "      <th>like</th>\n",
       "      <th>place</th>\n",
       "      <th>tags</th>\n",
       "    </tr>\n",
       "  </thead>\n",
       "  <tbody>\n",
       "    <tr>\n",
       "      <th>0</th>\n",
       "      <td>0</td>\n",
       "      <td>제주 #사라오름 산정호수🏞.\"제주도민이 알려주는 진짜 제주도\" @jejumini 입...</td>\n",
       "      <td>2020-06-17</td>\n",
       "      <td>37,868</td>\n",
       "      <td>한라산 사라오름</td>\n",
       "      <td>['#사라오름', '#제주돈아서귀포점', '#서귀다원', '#제주미니', '#jej...</td>\n",
       "    </tr>\n",
       "    <tr>\n",
       "      <th>1</th>\n",
       "      <td>1</td>\n",
       "      <td>다양한 해산물과 환상적인 바다뷰를 보면서 식사를 할수 있는 #성산일출봉 #코코마마....</td>\n",
       "      <td>2020-07-01</td>\n",
       "      <td>0</td>\n",
       "      <td>NaN</td>\n",
       "      <td>['#성산일출봉', '#코코마마.계절마다', '#성산맛집', '#성산일출봉맛집', ...</td>\n",
       "    </tr>\n",
       "    <tr>\n",
       "      <th>2</th>\n",
       "      <td>2</td>\n",
       "      <td>⠀⠀@think.jeju💡띵크서포터즈💡⠀이 조합 박제해주세요💖성게밥 먹고 라면ㄲㄲ오...</td>\n",
       "      <td>2020-06-16</td>\n",
       "      <td>1,095</td>\n",
       "      <td>NaN</td>\n",
       "      <td>['#경미네집📍07:00', '#띵크추천', '#띵크제주', '#사랑분식', '#애...</td>\n",
       "    </tr>\n",
       "    <tr>\n",
       "      <th>3</th>\n",
       "      <td>3</td>\n",
       "      <td>전국에서 알아주는 진짜로컬맛집찾는다면 \"돌집식당\"밥도둑세트👍👍간장게장 못 먹는 사람...</td>\n",
       "      <td>2020-06-24</td>\n",
       "      <td>0</td>\n",
       "      <td>NaN</td>\n",
       "      <td>['#표선맛집', '#제주표선맛집', '#제주도표선맛집', '#우도맛집', '#제주...</td>\n",
       "    </tr>\n",
       "    <tr>\n",
       "      <th>4</th>\n",
       "      <td>4</td>\n",
       "      <td>𖤐맛있는 힐링이 필요할 때!특별하고 맛있는 즐거움이 있는 곳!산도롱맨도롱에서 맛있는...</td>\n",
       "      <td>2020-06-17</td>\n",
       "      <td>0</td>\n",
       "      <td>NaN</td>\n",
       "      <td>['#제주맛집베스트', '#제주맛집여행', '#섭지코지', '#광치기해변', '#우...</td>\n",
       "    </tr>\n",
       "  </tbody>\n",
       "</table>\n",
       "</div>"
      ],
      "text/plain": [
       "   Unnamed: 0                                            content        data  \\\n",
       "0           0  제주 #사라오름 산정호수🏞.\"제주도민이 알려주는 진짜 제주도\" @jejumini 입...  2020-06-17   \n",
       "1           1  다양한 해산물과 환상적인 바다뷰를 보면서 식사를 할수 있는 #성산일출봉 #코코마마....  2020-07-01   \n",
       "2           2  ⠀⠀@think.jeju💡띵크서포터즈💡⠀이 조합 박제해주세요💖성게밥 먹고 라면ㄲㄲ오...  2020-06-16   \n",
       "3           3  전국에서 알아주는 진짜로컬맛집찾는다면 \"돌집식당\"밥도둑세트👍👍간장게장 못 먹는 사람...  2020-06-24   \n",
       "4           4  𖤐맛있는 힐링이 필요할 때!특별하고 맛있는 즐거움이 있는 곳!산도롱맨도롱에서 맛있는...  2020-06-17   \n",
       "\n",
       "     like     place                                               tags  \n",
       "0  37,868  한라산 사라오름  ['#사라오름', '#제주돈아서귀포점', '#서귀다원', '#제주미니', '#jej...  \n",
       "1       0       NaN  ['#성산일출봉', '#코코마마.계절마다', '#성산맛집', '#성산일출봉맛집', ...  \n",
       "2   1,095       NaN  ['#경미네집📍07:00', '#띵크추천', '#띵크제주', '#사랑분식', '#애...  \n",
       "3       0       NaN  ['#표선맛집', '#제주표선맛집', '#제주도표선맛집', '#우도맛집', '#제주...  \n",
       "4       0       NaN  ['#제주맛집베스트', '#제주맛집여행', '#섭지코지', '#광치기해변', '#우...  "
      ]
     },
     "execution_count": 23,
     "metadata": {},
     "output_type": "execute_result"
    }
   ],
   "source": [
    "# 예제 4-20 크롤링 데이터 불러오기\n",
    "import pandas as pd\n",
    "#raw_total = pd.read_excel('./files/3_1_crawling_raw.xlsx')\n",
    "raw_total = pd.read_excel('./files/Instagram_Crawling/4_1_crawling_raw.xlsx')\n",
    "raw_total.head()"
   ]
  },
  {
   "cell_type": "code",
   "execution_count": 24,
   "metadata": {},
   "outputs": [
    {
     "data": {
      "text/plain": [
       "한라산 사라오름    1\n",
       "Name: place, dtype: int64"
      ]
     },
     "execution_count": 24,
     "metadata": {},
     "output_type": "execute_result"
    }
   ],
   "source": [
    "# 예제 4-21 위치정보 가져오기\n",
    "location_counts = raw_total['place'].value_counts( )\n",
    "location_counts"
   ]
  },
  {
   "cell_type": "code",
   "execution_count": 25,
   "metadata": {},
   "outputs": [
    {
     "data": {
      "text/html": [
       "<div>\n",
       "<style scoped>\n",
       "    .dataframe tbody tr th:only-of-type {\n",
       "        vertical-align: middle;\n",
       "    }\n",
       "\n",
       "    .dataframe tbody tr th {\n",
       "        vertical-align: top;\n",
       "    }\n",
       "\n",
       "    .dataframe thead th {\n",
       "        text-align: right;\n",
       "    }\n",
       "</style>\n",
       "<table border=\"1\" class=\"dataframe\">\n",
       "  <thead>\n",
       "    <tr style=\"text-align: right;\">\n",
       "      <th></th>\n",
       "      <th>place</th>\n",
       "    </tr>\n",
       "  </thead>\n",
       "  <tbody>\n",
       "    <tr>\n",
       "      <th>한라산 사라오름</th>\n",
       "      <td>1</td>\n",
       "    </tr>\n",
       "  </tbody>\n",
       "</table>\n",
       "</div>"
      ],
      "text/plain": [
       "          place\n",
       "한라산 사라오름      1"
      ]
     },
     "execution_count": 25,
     "metadata": {},
     "output_type": "execute_result"
    }
   ],
   "source": [
    "# 예제 4-22 등록된 위치정보별 빈도수 데이터\n",
    "location_counts_df = pd.DataFrame(location_counts)\n",
    "location_counts_df.head()"
   ]
  },
  {
   "cell_type": "code",
   "execution_count": 26,
   "metadata": {},
   "outputs": [],
   "source": [
    "# 예제 4-23 위치정보 빈도수 데이터 저장하기\n",
    "location_counts_df.to_excel('./files/Instagram_Crawling/4_3_location_counts.xlsx')"
   ]
  },
  {
   "cell_type": "code",
   "execution_count": 27,
   "metadata": {},
   "outputs": [
    {
     "data": {
      "text/plain": [
       "['한라산 사라오름']"
      ]
     },
     "execution_count": 27,
     "metadata": {},
     "output_type": "execute_result"
    }
   ],
   "source": [
    "# 예제 4-24 위치정보 종류 확인하기\n",
    "locations = list( location_counts.index )\n",
    "locations "
   ]
  },
  {
   "cell_type": "markdown",
   "metadata": {},
   "source": [
    "### 4.3.4 카카오 지도 API를 활용한 장소 검색"
   ]
  },
  {
   "cell_type": "code",
   "execution_count": 28,
   "metadata": {},
   "outputs": [
    {
     "data": {
      "text/plain": [
       "[{'address_name': '서울 마포구 서교동 395-166',\n",
       "  'category_group_code': 'CE7',\n",
       "  'category_group_name': '카페',\n",
       "  'category_name': '음식점 > 카페 > 커피전문점 > 스타벅스',\n",
       "  'distance': '',\n",
       "  'id': '26572121',\n",
       "  'phone': '',\n",
       "  'place_name': '스타벅스 서교점',\n",
       "  'place_url': 'http://place.map.kakao.com/26572121',\n",
       "  'road_address_name': '서울 마포구 양화로 78',\n",
       "  'x': '126.916980454434',\n",
       "  'y': '37.5514601750423'},\n",
       " {'address_name': '서울 마포구 합정동 472',\n",
       "  'category_group_code': 'CE7',\n",
       "  'category_group_name': '카페',\n",
       "  'category_name': '음식점 > 카페 > 커피전문점 > 스타벅스',\n",
       "  'distance': '',\n",
       "  'id': '2057327896',\n",
       "  'phone': '1522-3232',\n",
       "  'place_name': '스타벅스 합정점',\n",
       "  'place_url': 'http://place.map.kakao.com/2057327896',\n",
       "  'road_address_name': '서울 마포구 월드컵로1길 14',\n",
       "  'x': '126.91211392586314',\n",
       "  'y': '37.54981773755399'},\n",
       " {'address_name': '서울 마포구 서교동 490',\n",
       "  'category_group_code': 'CE7',\n",
       "  'category_group_name': '카페',\n",
       "  'category_name': '음식점 > 카페 > 커피전문점 > 스타벅스',\n",
       "  'distance': '',\n",
       "  'id': '288597324',\n",
       "  'phone': '',\n",
       "  'place_name': '스타벅스 합정폴리스R점',\n",
       "  'place_url': 'http://place.map.kakao.com/288597324',\n",
       "  'road_address_name': '서울 마포구 양화로 45',\n",
       "  'x': '126.91340049045',\n",
       "  'y': '37.5508989849269'},\n",
       " {'address_name': '서울 마포구 서교동 490',\n",
       "  'category_group_code': 'CE7',\n",
       "  'category_group_name': '카페',\n",
       "  'category_name': '음식점 > 카페 > 커피전문점 > 스타벅스',\n",
       "  'distance': '',\n",
       "  'id': '27076117',\n",
       "  'phone': '1522-3232',\n",
       "  'place_name': '스타벅스 합정메세나몰점',\n",
       "  'place_url': 'http://place.map.kakao.com/27076117',\n",
       "  'road_address_name': '서울 마포구 양화로 45',\n",
       "  'x': '126.913541853312',\n",
       "  'y': '37.5500016943689'},\n",
       " {'address_name': '서울 마포구 서교동 475-13',\n",
       "  'category_group_code': 'CE7',\n",
       "  'category_group_name': '카페',\n",
       "  'category_name': '음식점 > 카페 > 커피전문점 > 스타벅스',\n",
       "  'distance': '',\n",
       "  'id': '12776689',\n",
       "  'phone': '1522-3232',\n",
       "  'place_name': '스타벅스 망원역점',\n",
       "  'place_url': 'http://place.map.kakao.com/12776689',\n",
       "  'road_address_name': '서울 마포구 월드컵로 74',\n",
       "  'x': '126.91071941264',\n",
       "  'y': '37.5557803955969'},\n",
       " {'address_name': '서울 마포구 서교동 374-20',\n",
       "  'category_group_code': 'CE7',\n",
       "  'category_group_name': '카페',\n",
       "  'category_name': '음식점 > 카페 > 커피전문점 > 스타벅스',\n",
       "  'distance': '',\n",
       "  'id': '27416913',\n",
       "  'phone': '',\n",
       "  'place_name': '스타벅스 서교동사거리',\n",
       "  'place_url': 'http://place.map.kakao.com/27416913',\n",
       "  'road_address_name': '서울 마포구 양화로 105',\n",
       "  'x': '126.918607875358',\n",
       "  'y': '37.5534723352988'},\n",
       " {'address_name': '서울 마포구 서교동 353-5',\n",
       "  'category_group_code': 'CE7',\n",
       "  'category_group_name': '카페',\n",
       "  'category_name': '음식점 > 카페 > 커피전문점 > 스타벅스',\n",
       "  'distance': '',\n",
       "  'id': '1436512690',\n",
       "  'phone': '1522-3232',\n",
       "  'place_name': '스타벅스 홍대입구역사거리R점',\n",
       "  'place_url': 'http://place.map.kakao.com/1436512690',\n",
       "  'road_address_name': '서울 마포구 양화로 125',\n",
       "  'x': '126.920317785646',\n",
       "  'y': '37.5546231745866'},\n",
       " {'address_name': '서울 마포구 동교동 205-6',\n",
       "  'category_group_code': 'CE7',\n",
       "  'category_group_name': '카페',\n",
       "  'category_name': '음식점 > 카페 > 커피전문점 > 스타벅스',\n",
       "  'distance': '',\n",
       "  'id': '20705154',\n",
       "  'phone': '1522-3232',\n",
       "  'place_name': '스타벅스 동교점',\n",
       "  'place_url': 'http://place.map.kakao.com/20705154',\n",
       "  'road_address_name': '서울 마포구 월드컵북로 22',\n",
       "  'x': '126.919993980608',\n",
       "  'y': '37.5568646370831'},\n",
       " {'address_name': '서울 마포구 상수동 86-22',\n",
       "  'category_group_code': 'CE7',\n",
       "  'category_group_name': '카페',\n",
       "  'category_name': '음식점 > 카페 > 커피전문점 > 스타벅스',\n",
       "  'distance': '',\n",
       "  'id': '17127074',\n",
       "  'phone': '1522-3232',\n",
       "  'place_name': '스타벅스 홍대삼거리점',\n",
       "  'place_url': 'http://place.map.kakao.com/17127074',\n",
       "  'road_address_name': '서울 마포구 와우산로 64',\n",
       "  'x': '126.92326479924',\n",
       "  'y': '37.5501958209348'},\n",
       " {'address_name': '서울 마포구 동교동 159-1',\n",
       "  'category_group_code': 'CE7',\n",
       "  'category_group_name': '카페',\n",
       "  'category_name': '음식점 > 카페 > 커피전문점 > 스타벅스',\n",
       "  'distance': '',\n",
       "  'id': '22105109',\n",
       "  'phone': '',\n",
       "  'place_name': '스타벅스 홍대역점',\n",
       "  'place_url': 'http://place.map.kakao.com/22105109',\n",
       "  'road_address_name': '서울 마포구 양화로 165',\n",
       "  'x': '126.923637798148',\n",
       "  'y': '37.5572887166274'},\n",
       " {'address_name': '서울 마포구 서교동 343-10',\n",
       "  'category_group_code': 'CE7',\n",
       "  'category_group_name': '카페',\n",
       "  'category_name': '음식점 > 카페 > 커피전문점 > 스타벅스',\n",
       "  'distance': '',\n",
       "  'id': '7962302',\n",
       "  'phone': '1522-3232',\n",
       "  'place_name': '스타벅스 홍대갤러리점',\n",
       "  'place_url': 'http://place.map.kakao.com/7962302',\n",
       "  'road_address_name': '서울 마포구 와우산로 101',\n",
       "  'x': '126.924809884926',\n",
       "  'y': '37.5531989403216'},\n",
       " {'address_name': '서울 마포구 상수동 329-1',\n",
       "  'category_group_code': 'CE7',\n",
       "  'category_group_name': '카페',\n",
       "  'category_name': '음식점 > 카페 > 커피전문점 > 스타벅스',\n",
       "  'distance': '',\n",
       "  'id': '26848996',\n",
       "  'phone': '1522-3232',\n",
       "  'place_name': '스타벅스 상수역점',\n",
       "  'place_url': 'http://place.map.kakao.com/26848996',\n",
       "  'road_address_name': '서울 마포구 독막로 88',\n",
       "  'x': '126.923272022704',\n",
       "  'y': '37.5475649101839'},\n",
       " {'address_name': '서울 마포구 동교동 166-1',\n",
       "  'category_group_code': 'CE7',\n",
       "  'category_group_name': '카페',\n",
       "  'category_name': '음식점 > 카페 > 커피전문점 > 스타벅스',\n",
       "  'distance': '',\n",
       "  'id': '231272664',\n",
       "  'phone': '',\n",
       "  'place_name': '스타벅스 홍대공항철도역점',\n",
       "  'place_url': 'http://place.map.kakao.com/231272664',\n",
       "  'road_address_name': '서울 마포구 양화로 178',\n",
       "  'x': '126.92518582665798',\n",
       "  'y': '37.557509550972256'},\n",
       " {'address_name': '서울 마포구 창전동 130',\n",
       "  'category_group_code': 'CE7',\n",
       "  'category_group_name': '카페',\n",
       "  'category_name': '음식점 > 카페 > 커피전문점 > 스타벅스',\n",
       "  'distance': '',\n",
       "  'id': '1572099327',\n",
       "  'phone': '',\n",
       "  'place_name': '스타벅스 서강광흥창역점',\n",
       "  'place_url': 'http://place.map.kakao.com/1572099327',\n",
       "  'road_address_name': '서울 마포구 서강로 69',\n",
       "  'x': '126.931657893743',\n",
       "  'y': '37.5493756625598'},\n",
       " {'address_name': '서울 영등포구 당산동6가 304-1',\n",
       "  'category_group_code': 'CE7',\n",
       "  'category_group_name': '카페',\n",
       "  'category_name': '음식점 > 카페 > 커피전문점 > 스타벅스',\n",
       "  'distance': '',\n",
       "  'id': '7961651',\n",
       "  'phone': '',\n",
       "  'place_name': '스타벅스 당산역점',\n",
       "  'place_url': 'http://place.map.kakao.com/7961651',\n",
       "  'road_address_name': '서울 영등포구 당산로 231',\n",
       "  'x': '126.901910730755',\n",
       "  'y': '37.53446658474'}]"
      ]
     },
     "execution_count": 28,
     "metadata": {},
     "output_type": "execute_result"
    }
   ],
   "source": [
    "# 예제 4-25 카카오 검색 API 사용 예시\n",
    "\n",
    "import requests\n",
    "\n",
    "searching = '합정 스타벅스'\n",
    "url = 'https://dapi.kakao.com/v2/local/search/keyword.json?query={}'.format(searching)\n",
    "\n",
    "headers = {\n",
    "    # \"Authorization\": \"KakaoAK 여기에 본인의 카카오API키입력하세요\"     \n",
    "    \"Authorization\": \"KakaoAK c365fabe892788f00e612734bd99c75f\" # \n",
    "    # 입력시 반드시  KakaoAK 뒤에 한 칸 띄우고 API키 값을 적어야 합니다. \n",
    "}\n",
    "\n",
    "places = requests.get(url, headers = headers).json()['documents']\n",
    "places\n",
    "\n"
   ]
  },
  {
   "cell_type": "code",
   "execution_count": 29,
   "metadata": {},
   "outputs": [],
   "source": [
    "# 예제 4-26  장소 검색 함수 만들기\n",
    "def find_places(searching):\n",
    "    # ① 접속URL 만들기\n",
    "    url = 'https://dapi.kakao.com/v2/local/search/keyword.json?query={}'.format(searching)\n",
    "    # ② headers 입력하기\n",
    "    headers = {\n",
    "    # \"Authorization\": \"KakaoAK 여기에 본인의 카카오API키입력하세요\"     \n",
    "    \"Authorization\": \"KakaoAK c365fabe892788f00e612734bd99c75f\" # \n",
    "    # 입력시 반드시  KakaoAK 뒤에 한 칸 띄우고 API키 값을 적어야 합니다. \n",
    "    }\n",
    "    # ③ API 요청&정보 받기\n",
    "    places = requests.get(url, headers = headers).json()['documents']\n",
    "    # ④ 필요한 정보 선택하기\n",
    "    place = places[0] \n",
    "    name = place['place_name']\n",
    "    x=place['x']\n",
    "    y=place['y']\n",
    "    data = [name, x, y, searching] \n",
    "\n",
    "    return data\n"
   ]
  },
  {
   "cell_type": "code",
   "execution_count": 30,
   "metadata": {},
   "outputs": [
    {
     "data": {
      "text/plain": [
       "['제주국제공항', '126.492769004244', '33.5070789578184', '제주공항']"
      ]
     },
     "execution_count": 30,
     "metadata": {},
     "output_type": "execute_result"
    }
   ],
   "source": [
    "# 예제 4-27 제주공항 검색 예시\n",
    "data = find_places('제주공항')\n",
    "data"
   ]
  },
  {
   "cell_type": "code",
   "execution_count": 31,
   "metadata": {},
   "outputs": [],
   "source": [
    "from tqdm import tqdm_notebook"
   ]
  },
  {
   "cell_type": "code",
   "execution_count": 32,
   "metadata": {},
   "outputs": [
    {
     "name": "stderr",
     "output_type": "stream",
     "text": [
      "C:\\ProgramData\\Anaconda3\\lib\\site-packages\\ipykernel_launcher.py:5: TqdmDeprecationWarning: This function will be removed in tqdm==5.0.0\n",
      "Please use `tqdm.notebook.tqdm` instead of `tqdm.tqdm_notebook`\n",
      "  \"\"\"\n"
     ]
    },
    {
     "data": {
      "application/vnd.jupyter.widget-view+json": {
       "model_id": "aa145651ddd144e79c3553ee2ff48700",
       "version_major": 2,
       "version_minor": 0
      },
      "text/plain": [
       "HBox(children=(FloatProgress(value=0.0, max=1.0), HTML(value='')))"
      ]
     },
     "metadata": {},
     "output_type": "display_data"
    },
    {
     "name": "stdout",
     "output_type": "stream",
     "text": [
      "\n"
     ]
    },
    {
     "data": {
      "text/plain": [
       "[['한라산 사라오름', '126.570868431303', '33.3718559201831', '한라산 사라오름']]"
      ]
     },
     "execution_count": 32,
     "metadata": {},
     "output_type": "execute_result"
    }
   ],
   "source": [
    "# 예제 4-28 인스타그램 위치명 위치정보 검색하기\n",
    "#### 검색시 시간이 많이 걸려, 현재 작업 진행현황을 볼 수 있도록,  tqdm_notebook 추가 했습니다.\n",
    "import time\n",
    "locations_inform = [ ]\n",
    "for location in tqdm_notebook(locations):\n",
    "    try:\n",
    "        data = find_places(location)       \n",
    "        locations_inform.append(data) \n",
    "        time.sleep(0.5) \n",
    "    except:\n",
    "        pass\n",
    "locations_inform\n"
   ]
  },
  {
   "cell_type": "code",
   "execution_count": 33,
   "metadata": {},
   "outputs": [],
   "source": [
    "# 예제 4-29 위치정보 저장하기\n",
    "locations_inform_df = pd.DataFrame(locations_inform)\n",
    "locations_inform_df.columns = ['name_official','경도','위도','인스타위치명']\n",
    "locations_inform_df.to_excel('./files/Instagram_Crawling/4_3_locations.xlsx', index=False)"
   ]
  },
  {
   "cell_type": "code",
   "execution_count": 34,
   "metadata": {},
   "outputs": [],
   "source": [
    "# 예제 4-30 인스타 게시량 및 위치정보 데이터 불러오기\n",
    "location_counts_df = pd.read_excel('./files/Instagram_Crawling/4_3_location_counts.xlsx', index_col = 0)\n",
    "locations_inform_df = pd.read_excel('./files/Instagram_Crawling/4_3_locations.xlsx')"
   ]
  },
  {
   "cell_type": "code",
   "execution_count": 35,
   "metadata": {},
   "outputs": [
    {
     "data": {
      "text/html": [
       "<div>\n",
       "<style scoped>\n",
       "    .dataframe tbody tr th:only-of-type {\n",
       "        vertical-align: middle;\n",
       "    }\n",
       "\n",
       "    .dataframe tbody tr th {\n",
       "        vertical-align: top;\n",
       "    }\n",
       "\n",
       "    .dataframe thead th {\n",
       "        text-align: right;\n",
       "    }\n",
       "</style>\n",
       "<table border=\"1\" class=\"dataframe\">\n",
       "  <thead>\n",
       "    <tr style=\"text-align: right;\">\n",
       "      <th></th>\n",
       "      <th>name_official</th>\n",
       "      <th>경도</th>\n",
       "      <th>위도</th>\n",
       "      <th>인스타위치명</th>\n",
       "      <th>place</th>\n",
       "    </tr>\n",
       "  </thead>\n",
       "  <tbody>\n",
       "    <tr>\n",
       "      <th>0</th>\n",
       "      <td>한라산 사라오름</td>\n",
       "      <td>126.570868</td>\n",
       "      <td>33.371856</td>\n",
       "      <td>한라산 사라오름</td>\n",
       "      <td>1</td>\n",
       "    </tr>\n",
       "  </tbody>\n",
       "</table>\n",
       "</div>"
      ],
      "text/plain": [
       "  name_official          경도         위도    인스타위치명  place\n",
       "0      한라산 사라오름  126.570868  33.371856  한라산 사라오름      1"
      ]
     },
     "execution_count": 35,
     "metadata": {},
     "output_type": "execute_result"
    }
   ],
   "source": [
    "# 예제 4-31 위치 데이터 병합하기\n",
    "location_data = pd.merge(locations_inform_df, location_counts_df, \n",
    "                         how = 'inner', left_on = 'name_official', right_index=True)\n",
    "\n",
    "location_data.head()\n"
   ]
  },
  {
   "cell_type": "code",
   "execution_count": 36,
   "metadata": {},
   "outputs": [
    {
     "data": {
      "text/html": [
       "<div>\n",
       "<style scoped>\n",
       "    .dataframe tbody tr th:only-of-type {\n",
       "        vertical-align: middle;\n",
       "    }\n",
       "\n",
       "    .dataframe tbody tr th {\n",
       "        vertical-align: top;\n",
       "    }\n",
       "\n",
       "    .dataframe thead th {\n",
       "        text-align: right;\n",
       "    }\n",
       "</style>\n",
       "<table border=\"1\" class=\"dataframe\">\n",
       "  <thead>\n",
       "    <tr style=\"text-align: right;\">\n",
       "      <th></th>\n",
       "      <th></th>\n",
       "      <th></th>\n",
       "      <th>place</th>\n",
       "    </tr>\n",
       "    <tr>\n",
       "      <th>name_official</th>\n",
       "      <th>경도</th>\n",
       "      <th>위도</th>\n",
       "      <th></th>\n",
       "    </tr>\n",
       "  </thead>\n",
       "  <tbody>\n",
       "    <tr>\n",
       "      <th>한라산 사라오름</th>\n",
       "      <th>126.570868</th>\n",
       "      <th>33.371856</th>\n",
       "      <td>1</td>\n",
       "    </tr>\n",
       "  </tbody>\n",
       "</table>\n",
       "</div>"
      ],
      "text/plain": [
       "                                    place\n",
       "name_official 경도         위도              \n",
       "한라산 사라오름      126.570868 33.371856      1"
      ]
     },
     "execution_count": 36,
     "metadata": {},
     "output_type": "execute_result"
    }
   ],
   "source": [
    "# 추가) 동일한 name_official 가지는 데이터 --> 인스타 게시 횟수 합치기\n",
    "\n",
    "location_data = location_data.pivot_table(index = ['name_official','경도','위도'], values = 'place', aggfunc='sum')\n",
    "location_data.head()"
   ]
  },
  {
   "cell_type": "code",
   "execution_count": 37,
   "metadata": {},
   "outputs": [],
   "source": [
    "# 예제 4-32 병합한 데이터 저장하기\n",
    "location_data.to_excel('./files/Instagram_Crawling/4_3_location_inform.xlsx')\n"
   ]
  },
  {
   "cell_type": "markdown",
   "metadata": {},
   "source": [
    "### 4.3.6 folium을 이용한 지도 시각화 ① - 개별 표시"
   ]
  },
  {
   "cell_type": "code",
   "execution_count": 38,
   "metadata": {},
   "outputs": [
    {
     "name": "stdout",
     "output_type": "stream",
     "text": [
      "<class 'pandas.core.frame.DataFrame'>\n",
      "RangeIndex: 1 entries, 0 to 0\n",
      "Data columns (total 4 columns):\n",
      " #   Column         Non-Null Count  Dtype  \n",
      "---  ------         --------------  -----  \n",
      " 0   name_official  1 non-null      object \n",
      " 1   경도             1 non-null      float64\n",
      " 2   위도             1 non-null      float64\n",
      " 3   place          1 non-null      int64  \n",
      "dtypes: float64(2), int64(1), object(1)\n",
      "memory usage: 160.0+ bytes\n"
     ]
    }
   ],
   "source": [
    "# 예제 4-33 데이터 불러오기\n",
    "location_data = pd.read_excel('./files/Instagram_Crawling/4_3_location_inform.xlsx')\n",
    "location_data.info()"
   ]
  },
  {
   "cell_type": "code",
   "execution_count": 39,
   "metadata": {},
   "outputs": [
    {
     "data": {
      "text/html": [
       "<div style=\"width:100%;\"><div style=\"position:relative;width:100%;height:0;padding-bottom:60%;\"><span style=\"color:#565656\">Make this Notebook Trusted to load map: File -> Trust Notebook</span><iframe src=\"about:blank\" style=\"position:absolute;width:100%;height:100%;left:0;top:0;border:none !important;\" data-html=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 onload=\"this.contentDocument.open();this.contentDocument.write(atob(this.getAttribute('data-html')));this.contentDocument.close();\" allowfullscreen webkitallowfullscreen mozallowfullscreen></iframe></div></div>"
      ],
      "text/plain": [
       "<folium.folium.Map at 0x1c20dd65648>"
      ]
     },
     "execution_count": 39,
     "metadata": {},
     "output_type": "execute_result"
    }
   ],
   "source": [
    "# 예제 4-34 지도 표시하기\n",
    "\n",
    "import folium\n",
    "\n",
    "Mt_Hanla =[33.362500, 126.533694]\n",
    "map_jeju = folium.Map(location = Mt_Hanla, zoom_start = 11)\n",
    "\n",
    "for i in range(len(location_data)):\n",
    "    name = location_data ['name_official'][i]    # 공식명칭\n",
    "    count = location_data ['place'][i]           # 게시글 개수\n",
    "    size = int(count)*2\n",
    "    long = float(location_data['위도'][i])      \n",
    "    lat = float(location_data['경도'][i])       \n",
    "    folium.CircleMarker((long,lat), radius = size, color='red', popup=name).add_to(map_jeju)\n",
    "    \n",
    "map_jeju\n",
    "# 주피터에서 지도 안보임"
   ]
  },
  {
   "cell_type": "code",
   "execution_count": 40,
   "metadata": {},
   "outputs": [],
   "source": [
    "# 예제 4-35 지도 저장하기\n",
    "map_jeju.save('./files/Instagram_Crawling/4_3_result.html') "
   ]
  },
  {
   "cell_type": "markdown",
   "metadata": {},
   "source": [
    "### 4.3.7 folium을 이용한 지도 시각화 ② - 그룹으로 표시"
   ]
  },
  {
   "cell_type": "code",
   "execution_count": 41,
   "metadata": {
    "scrolled": true
   },
   "outputs": [
    {
     "data": {
      "text/html": [
       "<div style=\"width:100%;\"><div style=\"position:relative;width:100%;height:0;padding-bottom:60%;\"><span style=\"color:#565656\">Make this Notebook Trusted to load map: File -> Trust Notebook</span><iframe src=\"about:blank\" style=\"position:absolute;width:100%;height:100%;left:0;top:0;border:none !important;\" data-html=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 onload=\"this.contentDocument.open();this.contentDocument.write(atob(this.getAttribute('data-html')));this.contentDocument.close();\" allowfullscreen webkitallowfullscreen mozallowfullscreen></iframe></div></div>"
      ],
      "text/plain": [
       "<folium.folium.Map at 0x1c20cb6bcc8>"
      ]
     },
     "execution_count": 41,
     "metadata": {},
     "output_type": "execute_result"
    }
   ],
   "source": [
    "# 예제 4-36 지도 표시하기(마커 집합)\n",
    "\n",
    "from folium.plugins import MarkerCluster\n",
    "\n",
    "locations = []\n",
    "names = []\n",
    "\n",
    "for i in range(len(location_data)):\n",
    "    data = location_data.iloc[i]  # 행 하나씩\n",
    "    locations.append((float(data['위도']),float(data['경도'])))    # 위도 , 경도 순으로..\n",
    "    names.append(data['name_official'])\n",
    "\n",
    "icon_create_function = \"\"\"\\\n",
    "function(cluster) {\n",
    "    return L.divIcon({\n",
    "    html: '<b>' + cluster.getChildCount() + '</b>',\n",
    "    className: 'marker-cluster marker-cluster-large',\n",
    "    iconSize: new L.Point(30, 30)\n",
    "    });\n",
    "}\"\"\"\n",
    "\n",
    "Mt_Hanla =[33.362500, 126.533694]\n",
    "map_jeju2 = folium.Map(location = Mt_Hanla, zoom_start = 11)\n",
    "                       \n",
    "marker_cluster = MarkerCluster(\n",
    "    locations=locations, popups=names,\n",
    "    name='Result',\n",
    "    overlay=True,\n",
    "    control=True,\n",
    "    icon_create_function=icon_create_function\n",
    ")\n",
    "\n",
    "marker_cluster.add_to(map_jeju2)\n",
    "folium.LayerControl().add_to(map_jeju2)\n",
    "\n",
    "map_jeju2\n"
   ]
  },
  {
   "cell_type": "code",
   "execution_count": null,
   "metadata": {},
   "outputs": [],
   "source": []
  },
  {
   "cell_type": "code",
   "execution_count": 42,
   "metadata": {},
   "outputs": [],
   "source": [
    "# 예제 4-37 지도 저장하기\n",
    "map_jeju2.save('./files/Instagram_Crawling/4_3_result_cluster.html') "
   ]
  },
  {
   "cell_type": "code",
   "execution_count": null,
   "metadata": {},
   "outputs": [],
   "source": []
  },
  {
   "cell_type": "code",
   "execution_count": null,
   "metadata": {},
   "outputs": [],
   "source": []
  }
 ],
 "metadata": {
  "kernelspec": {
   "display_name": "Python 3",
   "language": "python",
   "name": "python3"
  },
  "language_info": {
   "codemirror_mode": {
    "name": "ipython",
    "version": 3
   },
   "file_extension": ".py",
   "mimetype": "text/x-python",
   "name": "python",
   "nbconvert_exporter": "python",
   "pygments_lexer": "ipython3",
   "version": "3.7.6"
  }
 },
 "nbformat": 4,
 "nbformat_minor": 2
}
