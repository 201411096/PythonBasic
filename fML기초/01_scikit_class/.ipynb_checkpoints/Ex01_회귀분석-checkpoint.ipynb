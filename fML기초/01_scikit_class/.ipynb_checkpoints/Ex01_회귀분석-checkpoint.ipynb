{
 "cells": [
  {
   "cell_type": "markdown",
   "metadata": {},
   "source": [
    "## 회귀분석 (Regression)\n",
    "\n",
    "\n",
    "- 독립변수(X)와 종속변수(Y)의 관계식에서\n",
    "  독립변수가 한 단위 증가할 때 종속변수가 얼마나 영향을 받는지 분석\n",
    "  \n",
    "\n",
    "[예] 연속형변수와 연속형 변수를 비교할 때\n",
    "\n",
    "\n",
    "- 나이(X)가 많을 수록 소득(Y)가 높은지 분석\n",
    "- 광고지불비(X)에 따라 판매량(Y)이 영향을 받는지 분석\n",
    "- 가계 수입(X)과 사교육비 지출(Y) 사이에 관계가 있는지 분석\n",
    "- 신종코로나 추이 분석 (https://news.v.daum.net/v/20200213050105962)\n",
    "\n",
    "\n",
    "[참고] \n",
    "<img src='./imgs/regression1.png' width='500'>\n",
    "<img src='./imgs/regression2.png' width='500'>\n",
    "<img src='./imgs/regression3.png' width='500'>\n",
    "\n",
    "** 회귀분석 종류\n",
    "\n",
    "1) 단순회귀 분석 : 독립변수가 1개\n",
    "        \n",
    "        ` 광고지불비(X)를 이용하여 상품 매출액(Y) 예측할 때\n",
    "        \n",
    "2) 다중회귀 분석 : 독립변수가 2개 이상\n",
    "       \n",
    "       ` 어린이 연령(X1)과 하루 평균 학습시간(X2)를 이용하여 그 어린이의 성적(Y)을 예측하고자 할 때\n",
    "\n"
   ]
  },
  {
   "cell_type": "code",
   "execution_count": 17,
   "metadata": {},
   "outputs": [],
   "source": [
    "%matplotlib inline\n",
    "\n",
    "import pandas as pd\n",
    "import matplotlib.pyplot as plt\n",
    "import numpy as np\n",
    "import statsmodels.api as sm\n",
    "\n",
    "from scipy import stats\n",
    "from matplotlib import font_manager, rc\n",
    "from statsmodels.sandbox.regression.predstd import wls_prediction_std\n",
    "from sklearn.datasets import make_regression\n",
    "\n",
    "# 한글 폰트 설정\n",
    "font_name = font_manager.FontProperties(fname=\"c:/Windows/Fonts/malgun.ttf\").get_name()\n",
    "rc('font', family=font_name)"
   ]
  },
  {
   "cell_type": "markdown",
   "metadata": {},
   "source": [
    "### 단순회귀분석 ( 선형회귀분석 )\n",
    "\n",
    "- 독립변수가 1개인 경우\n",
    "\n",
    "- 전기생산량(독립변수)과 전기소비량(종속변수)의 영향\n",
    "\n",
    "\n",
    "    - 귀무가설 : 전기생산량과 전기소비량 간에 상관관계가 없다\n",
    "    - 대립가설 : 전기생산량과 전기소비량 간에 상관관계가 있다"
   ]
  },
  {
   "cell_type": "code",
   "execution_count": 18,
   "metadata": {},
   "outputs": [],
   "source": [
    "# 월별 전기생산금액\n",
    "x= [3.52, 2.51, 3.91, 4.07, 3.98, 4.29, 4.81, 3.73, 4.61, 3.39, 3.20]\n",
    "\n",
    "# 월별 전기 사용량\n",
    "y= [2.48, 2.27, 2.47, 2.37, 3.09, 3.18, 3.88, 3.03, 3.55, 2.99, 2.88]\n"
   ]
  },
  {
   "cell_type": "code",
   "execution_count": 19,
   "metadata": {},
   "outputs": [
    {
     "data": {
      "text/plain": [
       "LinregressResult(slope=0.5546831443969521, intercept=0.8074740247672794, rvalue=0.7200942961345399, pvalue=0.012451312531534768, stderr=0.17816251936092412)"
      ]
     },
     "execution_count": 19,
     "metadata": {},
     "output_type": "execute_result"
    }
   ],
   "source": [
    "##### 단순회귀분석\n",
    "result = stats.linregress(x,y)\n",
    "result\n",
    "\n",
    "\n"
   ]
  },
  {
   "cell_type": "markdown",
   "metadata": {},
   "source": [
    "- 기울기(slope)\n",
    "- 절편(intercept)\n",
    "- 상관계수(rvalue) :상관관계의 정도를 파악하는 값 ( -1에서 1 )\n",
    "                    - 1에 근접하면 양의 상관관계\n",
    "                    - -1에 근접하면 음의 상관관계\n",
    "                    - 0에 근접하면 상관관계가 없다\n",
    "- pvalue : 예측 불확실성의 정도를 나타내는 값\n",
    "- 에러의 표준편차(stderr)\n",
    "\n",
    "\n",
    "* 상관분석 : 두 변수 간에 선형적 관계가 있는지 분석\n",
    "* 상관계수 : 상관관계의 정도를 파악하는 값 ( -1에서 1 )\n",
    "                    - 1에 근접하면 양의 상관관계\n",
    "                    - -1에 근접하면 음의 상관관계\n",
    "                    - 0에 근접하면 상관관계가 없다\n",
    "                    \n",
    "1) pvalue가 0.05보다 작으므로 통계적으로 유의미하기에\n",
    "귀무가설을 기각하고 대립가설을 채택하여\n",
    "전기생랸량과 소비생산량 간에 상관관계가 있다 \n",
    "\n",
    "2) rvalue(상관계수)가 1에 가까우므로 양의 상관관계가 있다고 볼 수 있다 "
   ]
  },
  {
   "cell_type": "code",
   "execution_count": 20,
   "metadata": {},
   "outputs": [
    {
     "name": "stdout",
     "output_type": "stream",
     "text": [
      "통계적으로 유의미한 데이터\n"
     ]
    },
    {
     "data": {
      "text/plain": [
       "Text(0, 0.5, '전기사용량')"
      ]
     },
     "execution_count": 20,
     "metadata": {},
     "output_type": "execute_result"
    },
    {
     "data": {
      "image/png": "[encoded data removed]",
      "text/plain": [
       "<Figure size 432x288 with 1 Axes>"
      ]
     },
     "metadata": {
      "needs_background": "light"
     },
     "output_type": "display_data"
    }
   ],
   "source": [
    "##### 선형 회귀 분석값 얻어오기\n",
    "slope, intercept, r_value, p_value, stderr = stats.linregress(x,y) # intercept는 y절편\n",
    "\n",
    "if p_value <0.05:\n",
    "    print('통계적으로 유의미한 데이터')\n",
    "else:\n",
    "    print('통계적으로 유의미한 데이터가 아니다')\n",
    "\n",
    "\n",
    "\n",
    "##### 산점도 그리기\n",
    "plt.scatter(x, y)\n",
    "\n",
    "\n",
    "##### 회귀선 그리기\n",
    "x1 = np.array(x)\n",
    "plt.plot(x1, x1*slope+intercept, c='red')\n",
    "plt.xlabel('전기생산량')\n",
    "plt.ylabel('전기사용량')"
   ]
  },
  {
   "cell_type": "code",
   "execution_count": 21,
   "metadata": {},
   "outputs": [
    {
     "data": {
      "text/plain": [
       "3.0262066023550878"
      ]
     },
     "execution_count": 21,
     "metadata": {},
     "output_type": "execute_result"
    }
   ],
   "source": [
    "# 전기 생산량이 4라면 전기 소비량은?\n",
    "\n",
    "4*slope+intercept"
   ]
  },
  {
   "cell_type": "code",
   "execution_count": null,
   "metadata": {},
   "outputs": [],
   "source": []
  },
  {
   "cell_type": "markdown",
   "metadata": {},
   "source": []
  },
  {
   "cell_type": "markdown",
   "metadata": {},
   "source": [
    "### 회귀분석 예제 - 단순회귀분석(선형회귀분석)\n",
    "\n",
    "#### 오존 데이터셋에서 온도에 따른 오존량 예측\n",
    "\n",
    "- 독립변수 : 온도(수치형),   종속변수 : 오존량(수치형)\n",
    "- 독립변수가 하나이기에 단순회귀분석(선형회귀분석) 적용\n",
    "\n",
    "\n",
    "- 귀무가설 : 온도가 오존량에 영향을 미치지 않는다\n",
    "- 대립가설 : 온도가 오존량에 영향을 미친다\n"
   ]
  },
  {
   "cell_type": "code",
   "execution_count": 23,
   "metadata": {},
   "outputs": [
    {
     "data": {
      "text/plain": [
       "(153, 6)"
      ]
     },
     "execution_count": 23,
     "metadata": {},
     "output_type": "execute_result"
    }
   ],
   "source": [
    "df = pd.read_csv('../data/ozone/ozone.csv')\n",
    "df.head()\n",
    "df.tail()\n",
    "df.shape"
   ]
  },
  {
   "cell_type": "markdown",
   "metadata": {},
   "source": [
    "----------------------------------------------\n",
    "[ * 작업단계 *]\n",
    "\n",
    "1.  결측치 행 제거\n",
    "\n",
    "2. 온도(Temp) 데이타 X와 오존(Ozone) 데이타 Y를 추출\n",
    "\n",
    "3. 회귀분석 결과 출력\n",
    "\n",
    "[ *  회귀 분석의 결과에 대한 분석 * ]"
   ]
  },
  {
   "cell_type": "code",
   "execution_count": 25,
   "metadata": {},
   "outputs": [
    {
     "data": {
      "text/plain": [
       "LinregressResult(slope=2.439109905529362, intercept=-147.64607238059494, rvalue=0.6985414096486389, pvalue=1.552677229392932e-17, stderr=0.23931937849409174)"
      ]
     },
     "execution_count": 25,
     "metadata": {},
     "output_type": "execute_result"
    }
   ],
   "source": [
    "df2 = df.dropna()\n",
    "df2\n",
    "df2.shape\n",
    "\n",
    "x=df2['Temp']\n",
    "y=df2['Ozone']\n",
    "\n",
    "result=stats.linregress(x,y)\n",
    "result"
   ]
  },
  {
   "cell_type": "markdown",
   "metadata": {},
   "source": [
    "[결과 분석]\n",
    "\n",
    "1. rvalue가 0.7 두 변수는 양의 상관관계가 있다.\n",
    "\n",
    "2. pvalue 1.55 * 10^(-17) 는 0.05보다 작다.\n",
    "\n",
    "3. 온도가 오존량에 영향을 미친다. (대립가설 채택)"
   ]
  },
  {
   "cell_type": "markdown",
   "metadata": {},
   "source": [
    "------------------------------------------------------\n",
    "[ * 작업단계 *]\n",
    "\n",
    "4. 산점도와 회귀선 그리기"
   ]
  },
  {
   "cell_type": "code",
   "execution_count": 29,
   "metadata": {},
   "outputs": [
    {
     "data": {
      "text/plain": [
       "[<matplotlib.lines.Line2D at 0x16086cdbc08>]"
      ]
     },
     "execution_count": 29,
     "metadata": {},
     "output_type": "execute_result"
    },
    {
     "data": {
      "image/png": "[encoded data removed]",
      "text/plain": [
       "<Figure size 432x288 with 1 Axes>"
      ]
     },
     "metadata": {
      "needs_background": "light"
     },
     "output_type": "display_data"
    }
   ],
   "source": [
    "slope, intercept, rvalue, pvalue, stderr = stats.linregress(x, y)\n",
    "plt.scatter(x, y)\n",
    "plt.plot(x, x*slope+intercept, c='red')"
   ]
  },
  {
   "cell_type": "markdown",
   "metadata": {},
   "source": [
    "## 회귀분석 예제 - 보스턴 주택가격\n",
    "\n",
    "- mglearn 패키지 설치\n",
    "\n",
    "콘솔에서 > pip install mglearn \n",
    "\n",
    "또는\n",
    "\n",
    "쥬피터에서는 !pip install mglearn \n"
   ]
  },
  {
   "cell_type": "code",
   "execution_count": 30,
   "metadata": {},
   "outputs": [
    {
     "name": "stdout",
     "output_type": "stream",
     "text": [
      "Collecting mglearn\n",
      "  Downloading mglearn-0.1.9.tar.gz (540 kB)\n",
      "Requirement already satisfied: numpy in c:\\programdata\\anaconda3\\lib\\site-packages (from mglearn) (1.18.1)\n",
      "Requirement already satisfied: matplotlib in c:\\programdata\\anaconda3\\lib\\site-packages (from mglearn) (3.1.3)\n",
      "Requirement already satisfied: scikit-learn in c:\\programdata\\anaconda3\\lib\\site-packages (from mglearn) (0.22.1)\n",
      "Requirement already satisfied: pandas in c:\\programdata\\anaconda3\\lib\\site-packages (from mglearn) (1.0.1)\n",
      "Requirement already satisfied: pillow in c:\\programdata\\anaconda3\\lib\\site-packages (from mglearn) (7.0.0)\n",
      "Requirement already satisfied: cycler in c:\\programdata\\anaconda3\\lib\\site-packages (from mglearn) (0.10.0)\n",
      "Requirement already satisfied: imageio in c:\\programdata\\anaconda3\\lib\\site-packages (from mglearn) (2.6.1)\n",
      "Requirement already satisfied: joblib in c:\\programdata\\anaconda3\\lib\\site-packages (from mglearn) (0.14.1)\n",
      "Requirement already satisfied: kiwisolver>=1.0.1 in c:\\programdata\\anaconda3\\lib\\site-packages (from matplotlib->mglearn) (1.1.0)\n",
      "Requirement already satisfied: pyparsing!=2.0.4,!=2.1.2,!=2.1.6,>=2.0.1 in c:\\programdata\\anaconda3\\lib\\site-packages (from matplotlib->mglearn) (2.4.6)\n",
      "Requirement already satisfied: python-dateutil>=2.1 in c:\\programdata\\anaconda3\\lib\\site-packages (from matplotlib->mglearn) (2.8.1)\n",
      "Requirement already satisfied: scipy>=0.17.0 in c:\\programdata\\anaconda3\\lib\\site-packages (from scikit-learn->mglearn) (1.4.1)\n",
      "Requirement already satisfied: pytz>=2017.2 in c:\\programdata\\anaconda3\\lib\\site-packages (from pandas->mglearn) (2019.3)\n",
      "Requirement already satisfied: six in c:\\programdata\\anaconda3\\lib\\site-packages (from cycler->mglearn) (1.14.0)\n",
      "Requirement already satisfied: setuptools in c:\\programdata\\anaconda3\\lib\\site-packages (from kiwisolver>=1.0.1->matplotlib->mglearn) (45.2.0.post20200210)\n",
      "Building wheels for collected packages: mglearn\n",
      "  Building wheel for mglearn (setup.py): started\n",
      "  Building wheel for mglearn (setup.py): finished with status 'done'\n",
      "  Created wheel for mglearn: filename=mglearn-0.1.9-py2.py3-none-any.whl size=582645 sha256=e86b35d95b9c95a0ed913f3d1d0a919e2a0dec8119d7a3c4b017ac1943c83dc9\n",
      "  Stored in directory: c:\\users\\canon\\appdata\\local\\pip\\cache\\wheels\\f1\\17\\e1\\1720d6dcd70187b6b6c3750cb3508798f2b1d57c9d3214b08b\n",
      "Successfully built mglearn\n",
      "Installing collected packages: mglearn\n",
      "Successfully installed mglearn-0.1.9\n"
     ]
    }
   ],
   "source": [
    "#!pip install mglearn"
   ]
  },
  {
   "cell_type": "code",
   "execution_count": 31,
   "metadata": {},
   "outputs": [],
   "source": [
    "\n",
    "import mglearn\n",
    "\n",
    "# 보스턴 주택가격 데이터셋\n",
    "from sklearn.datasets import load_boston\n",
    "\n",
    "# 회귀분석을 위한 패키기\n",
    "from sklearn.linear_model import LinearRegression\n",
    "\n",
    "# 학습용, 검증용 데이터를 나누기 위한 패키기\n",
    "from sklearn.model_selection import train_test_split"
   ]
  },
  {
   "cell_type": "code",
   "execution_count": null,
   "metadata": {},
   "outputs": [],
   "source": []
  },
  {
   "cell_type": "markdown",
   "metadata": {},
   "source": [
    "속성정보:\n",
    "    - CRIM     인구 1인당 범죄 수\n",
    "    - ZN       25000평방 피트 이상의 주거 구역 비중\n",
    "    - INDUS    소매업 외 상업이 차지하는 면접 비율\n",
    "    - CHAS     찰스강 위치 변수 (1: 강주변, 0:이외 )\n",
    "    - NOX      일산화질소 농도 (parts per 10 million)\n",
    "    - RM       집의 평균 방수\n",
    "    - AGE      1940년 이전에 지어진 비율\n",
    "    - DIS      5가지 보스턴 시 고용 시설까지의 거리\n",
    "    - RAD      순환고속도로의 접근 용이성\n",
    "    - TAX      $10000 달러당 부동산 세율 총계\n",
    "\n",
    "    - PTRATIO  지역별 학생과 교사 비율\n",
    "    - B        지역별 흑인 비율\n",
    "    - LSTAT    급여가 낮은 직업에 종사하는 인구 비율(%)\n",
    "    - MEDV     가격단위($1000)"
   ]
  }
 ],
 "metadata": {
  "kernelspec": {
   "display_name": "Python 3",
   "language": "python",
   "name": "python3"
  },
  "language_info": {
   "codemirror_mode": {
    "name": "ipython",
    "version": 3
   },
   "file_extension": ".py",
   "mimetype": "text/x-python",
   "name": "python",
   "nbconvert_exporter": "python",
   "pygments_lexer": "ipython3",
   "version": "3.7.6"
  }
 },
 "nbformat": 4,
 "nbformat_minor": 2
}
