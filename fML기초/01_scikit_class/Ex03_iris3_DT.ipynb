{
 "cells": [
  {
   "cell_type": "markdown",
   "metadata": {},
   "source": [
    "## 의사결정나무 (Decision Tree)\n",
    "\n",
    "\n",
    "[예제 ] 붓꽃(Iris) 품종 \n",
    "\n",
    "- 꽃잎(petal)과 꽃받침(sepal)의 폭과 길이를 측정하여 품종을 예측한다\n",
    "- 150개의 데이타에서 3가지 품종(setosa, versicolor, virginica)로 분류한다"
   ]
  },
  {
   "cell_type": "code",
   "execution_count": 5,
   "metadata": {},
   "outputs": [],
   "source": [
    "from sklearn import datasets\n",
    "from sklearn.model_selection import train_test_split\n",
    "from sklearn.preprocessing import StandardScaler\n",
    "import numpy as np"
   ]
  },
  {
   "cell_type": "code",
   "execution_count": 6,
   "metadata": {},
   "outputs": [],
   "source": [
    "# 1. 데이타 로딩\n",
    "\n",
    "iris = datasets.load_iris()\n",
    "\n",
    "# 데이터 key 확인\n",
    "# print(iris.keys())\n"
   ]
  },
  {
   "cell_type": "code",
   "execution_count": 7,
   "metadata": {},
   "outputs": [],
   "source": [
    "# 2. 데이터와 레이블 분리 변수 선언\n",
    "\n",
    "\n",
    "# 3. 데이타셋을 분리 ( 학습용:검증용 = 7:3 )\n",
    "\n"
   ]
  },
  {
   "cell_type": "code",
   "execution_count": 8,
   "metadata": {},
   "outputs": [],
   "source": [
    "# 5. 트리 모델 생성하고 학습하기\n",
    "\n",
    "from sklearn.tree import DecisionTreeClassifier\n",
    "\n",
    "\n"
   ]
  },
  {
   "cell_type": "code",
   "execution_count": null,
   "metadata": {},
   "outputs": [],
   "source": [
    "# 6. 정확도\n",
    "\n",
    "\n"
   ]
  },
  {
   "cell_type": "markdown",
   "metadata": {},
   "source": [
    "\n",
    "\n",
    "\n",
    "---\n",
    "\n",
    "# 결정트리 시각화"
   ]
  },
  {
   "cell_type": "markdown",
   "metadata": {},
   "source": [
    "[ 참고 ] graphviz 설치\n",
    "\n",
    "- pip install graphviz\n",
    "\n",
    "\n",
    "- 아래 설치와 환경설정이 필요한가?\n",
    "\n",
    "- http://www.graphviz.org/download/ \n",
    "\n",
    "   > Windows > Stable 2.38 Windows install packages > graphviz-2.38.msi 다운로드 받아 실행\n",
    "\n",
    "- 환경변수 지정 (소스에서 ) : C:/Program Files (x86)/Graphviz2.38/bin/\n",
    "\n",
    "\n",
    "\n",
    "        import os\n",
    "\n",
    "        os.environ['PATH'] += os.pathsep + 'C:/Program Files (x86)/Graphviz2.38/bin/'\n"
   ]
  },
  {
   "cell_type": "code",
   "execution_count": 1,
   "metadata": {},
   "outputs": [],
   "source": [
    "# !pip install graphviz"
   ]
  },
  {
   "cell_type": "code",
   "execution_count": 2,
   "metadata": {},
   "outputs": [],
   "source": [
    "# pydotplus 설치\n",
    "# ! pip install pydotplus"
   ]
  },
  {
   "cell_type": "code",
   "execution_count": 2,
   "metadata": {},
   "outputs": [],
   "source": [
    "from sklearn.tree import export_graphviz\n",
    "import pydotplus\n",
    "import graphviz\n",
    "from IPython.display import Image"
   ]
  },
  {
   "cell_type": "code",
   "execution_count": 4,
   "metadata": {
    "scrolled": true
   },
   "outputs": [],
   "source": [
    "# graphviz의 경로를 환경변수 PATH에 등록\n",
    "import os\n",
    "os.environ['PATH'] += os.pathsep + 'C:/Program Files (x86)/Graphviz2.38/bin/'\n",
    "\n",
    "dot_data = export_graphviz(iris_tree, out_file=None, feature_names=iris.feature_names,\n",
    "                          class_names=iris.target_names, filled=True, rounded=True, special_characters=True)\n",
    "\n",
    "        #dot_data = export_graphviz(iris_tree, out_file=None, feature_names=['petal length', 'petal width'],\n",
    "        #                          class_names=iris.target_names, filled=True, rounded=True, special_characters=True)\n",
    "\n",
    "\n",
    "# 그래프 생성\n",
    "# graph = pydotplus.graph_from_dot_data(dot_data)\n",
    "# 그래프를 이미지로 변환\n",
    "# Image(graph.create_png())"
   ]
  },
  {
   "cell_type": "code",
   "execution_count": null,
   "metadata": {},
   "outputs": [],
   "source": []
  }
 ],
 "metadata": {
  "kernelspec": {
   "display_name": "Python 3",
   "language": "python",
   "name": "python3"
  },
  "language_info": {
   "codemirror_mode": {
    "name": "ipython",
    "version": 3
   },
   "file_extension": ".py",
   "mimetype": "text/x-python",
   "name": "python",
   "nbconvert_exporter": "python",
   "pygments_lexer": "ipython3",
   "version": "3.7.6"
  }
 },
 "nbformat": 4,
 "nbformat_minor": 2
}
